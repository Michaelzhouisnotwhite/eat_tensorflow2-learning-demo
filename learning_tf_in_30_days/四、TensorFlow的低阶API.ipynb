{
 "cells": [
  {
   "cell_type": "markdown",
   "id": "13a1c647",
   "metadata": {},
   "source": [
    "# 四、TensorFlow的低阶API\n",
    "\n",
    "TensorFlow的低阶API主要包括张量操作，计算图和自动微分。\n",
    "\n",
    "如果把模型比作一个房子，那么低阶API就是【模型之砖】。\n",
    "\n",
    "在低阶API层次上，可以把TensorFlow当做一个增强版的numpy来使用。\n",
    "\n",
    "TensorFlow提供的方法比numpy更全面，运算速度更快，如果需要的话，还可以使用GPU进行加速。\n",
    "\n",
    "前面几章我们对低阶API已经有了一个整体的认识，本章我们将重点详细介绍张量操作和Autograph计算图。"
   ]
  },
  {
   "cell_type": "markdown",
   "id": "c8b94b5c",
   "metadata": {},
   "source": [
    "张量的操作主要包括张量的结构操作和张量的数学运算。\n",
    "\n",
    "张量结构操作诸如：张量创建，索引切片，维度变换，合并分割。\n",
    "\n",
    "张量数学运算主要有：标量运算，向量运算，矩阵运算。另外我们会介绍张量运算的广播机制。\n",
    "\n",
    "Autograph计算图我们将介绍使用Autograph的规范建议，Autograph的机制原理，Autograph和tf.Module.\n"
   ]
  },
  {
   "cell_type": "markdown",
   "id": "9760cb01",
   "metadata": {},
   "source": [
    "如果对本书内容理解上有需要进一步和作者交流的地方，欢迎在公众号\"算法美食屋\"下留言。作者时间和精力有限，会酌情予以回复。\n",
    "\n",
    "也可以在公众号后台回复关键字：**加群**，加入读者交流群和大家讨论。\n",
    "\n",
    "![image.png](./data/算法美食屋二维码.jpg)"
   ]
  }
 ],
 "metadata": {
  "jupytext": {
   "cell_metadata_filter": "-all",
   "main_language": "python",
   "notebook_metadata_filter": "-all"
  }
 },
 "nbformat": 4,
 "nbformat_minor": 5
}
