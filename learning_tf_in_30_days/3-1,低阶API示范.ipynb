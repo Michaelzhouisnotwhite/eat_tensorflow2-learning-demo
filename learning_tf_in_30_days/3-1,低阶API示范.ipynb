{
 "cells": [
  {
   "cell_type": "markdown",
   "source": [
    "# 3-1,低阶API示范\n",
    "\n",
    "下面的范例使用TensorFlow的低阶API实现线性回归模型和DNN二分类模型。\n",
    "\n",
    "低阶API主要包括张量操作，计算图和自动微分。"
   ],
   "metadata": {}
  },
  {
   "cell_type": "code",
   "execution_count": null,
   "source": [
    "import tensorflow as tf\r\n",
    "\r\n",
    "#打印时间分割线\r\n",
    "@tf.function\r\n",
    "def printbar():\r\n",
    "    today_ts = tf.timestamp()%(24*60*60)\r\n",
    "\r\n",
    "    hour = tf.cast(today_ts//3600+8,tf.int32)%tf.constant(24)\r\n",
    "    minite = tf.cast((today_ts%3600)//60,tf.int32)\r\n",
    "    second = tf.cast(tf.floor(today_ts%60),tf.int32)\r\n",
    "    \r\n",
    "    def timeformat(m):\r\n",
    "        if tf.strings.length(tf.strings.format(\"{}\",m))==1:\r\n",
    "            return(tf.strings.format(\"0{}\",m))\r\n",
    "        else:\r\n",
    "            return(tf.strings.format(\"{}\",m))\r\n",
    "    \r\n",
    "    timestring = tf.strings.join([timeformat(hour),timeformat(minite),\r\n",
    "                timeformat(second)],separator = \":\")\r\n",
    "    tf.print(\"==========\"*8+timestring)\r\n"
   ],
   "outputs": [],
   "metadata": {}
  },
  {
   "cell_type": "code",
   "execution_count": null,
   "source": [],
   "outputs": [],
   "metadata": {}
  },
  {
   "cell_type": "markdown",
   "source": [
    "### 一，线性回归模型"
   ],
   "metadata": {}
  },
  {
   "cell_type": "markdown",
   "source": [
    "**1，准备数据**"
   ],
   "metadata": {}
  },
  {
   "cell_type": "code",
   "execution_count": null,
   "source": [
    "import numpy as np \r\n",
    "import pandas as pd\r\n",
    "from matplotlib import pyplot as plt \r\n",
    "import tensorflow as tf\r\n",
    "\r\n",
    "\r\n",
    "#样本数量\r\n",
    "n = 400\r\n",
    "\r\n",
    "# 生成测试用数据集\r\n",
    "X = tf.random.uniform([n,2],minval=-10,maxval=10) \r\n",
    "w0 = tf.constant([[2.0],[-3.0]])\r\n",
    "b0 = tf.constant([[3.0]])\r\n",
    "Y = X@w0 + b0 + tf.random.normal([n,1],mean = 0.0,stddev= 2.0)  # @表示矩阵乘法,增加正态扰动\r\n"
   ],
   "outputs": [],
   "metadata": {}
  },
  {
   "cell_type": "code",
   "execution_count": null,
   "source": [
    "# 数据可视化\r\n",
    "\r\n",
    "# %matplotlib inline\r\n",
    "# %config InlineBackend.figure_format = 'svg'\r\n",
    "\r\n",
    "plt.figure(figsize = (12,5))\r\n",
    "ax1 = plt.subplot(121)\r\n",
    "ax1.scatter(X[:,0],Y[:,0], c = \"b\")\r\n",
    "plt.xlabel(\"x1\")\r\n",
    "plt.ylabel(\"y\",rotation = 0)\r\n",
    "\r\n",
    "ax2 = plt.subplot(122)\r\n",
    "ax2.scatter(X[:,1],Y[:,0], c = \"g\")\r\n",
    "plt.xlabel(\"x2\")\r\n",
    "plt.ylabel(\"y\",rotation = 0)\r\n",
    "plt.show()\r\n"
   ],
   "outputs": [],
   "metadata": {}
  },
  {
   "cell_type": "markdown",
   "source": [
    "![](./data/3-1-01-回归数据可视化.png)"
   ],
   "metadata": {}
  },
  {
   "cell_type": "code",
   "execution_count": null,
   "source": [
    "# 构建数据管道迭代器\n",
    "def data_iter(features, labels, batch_size=8):\n",
    "    num_examples = len(features)\n",
    "    indices = list(range(num_examples))\n",
    "    np.random.shuffle(indices)  #样本的读取顺序是随机的\n",
    "    for i in range(0, num_examples, batch_size):\n",
    "        indexs = indices[i: min(i + batch_size, num_examples)]\n",
    "        yield tf.gather(features,indexs), tf.gather(labels,indexs)\n",
    "        \n",
    "# 测试数据管道效果   \n",
    "batch_size = 8\n",
    "(features,labels) = next(data_iter(X,Y,batch_size))\n",
    "print(features)\n",
    "print(labels)\n"
   ],
   "outputs": [],
   "metadata": {}
  },
  {
   "cell_type": "markdown",
   "source": [
    "```\n",
    "tf.Tensor(\n",
    "[[ 2.6161194   0.11071014]\n",
    " [ 9.79207    -0.70180416]\n",
    " [ 9.792343    6.9149055 ]\n",
    " [-2.4186516  -9.375019  ]\n",
    " [ 9.83749    -3.4637213 ]\n",
    " [ 7.3953056   4.374569  ]\n",
    " [-0.14686584 -0.28063297]\n",
    " [ 0.49001217 -9.739792  ]], shape=(8, 2), dtype=float32)\n",
    "tf.Tensor(\n",
    "[[ 9.334667 ]\n",
    " [22.058844 ]\n",
    " [ 3.0695205]\n",
    " [26.736238 ]\n",
    " [35.292133 ]\n",
    " [ 4.2943544]\n",
    " [ 1.6713585]\n",
    " [34.826904 ]], shape=(8, 1), dtype=float32)\n",
    "```"
   ],
   "metadata": {}
  },
  {
   "cell_type": "markdown",
   "source": [
    "**2，定义模型**"
   ],
   "metadata": {}
  },
  {
   "cell_type": "code",
   "execution_count": null,
   "source": [
    "w = tf.Variable(tf.random.normal(w0.shape))\n",
    "b = tf.Variable(tf.zeros_like(b0,dtype = tf.float32))\n",
    "\n",
    "# 定义模型\n",
    "class LinearRegression:     \n",
    "    #正向传播\n",
    "    def __call__(self,x): \n",
    "        return x@w + b\n",
    "\n",
    "    # 损失函数\n",
    "    def loss_func(self,y_true,y_pred):  \n",
    "        return tf.reduce_mean((y_true - y_pred)**2/2)\n",
    "\n",
    "model = LinearRegression()"
   ],
   "outputs": [],
   "metadata": {}
  },
  {
   "cell_type": "code",
   "execution_count": null,
   "source": [],
   "outputs": [],
   "metadata": {}
  },
  {
   "cell_type": "markdown",
   "source": [
    "**3，训练模型**"
   ],
   "metadata": {}
  },
  {
   "cell_type": "code",
   "execution_count": null,
   "source": [
    "# 使用动态图调试\n",
    "def train_step(model, features, labels):\n",
    "    with tf.GradientTape() as tape:\n",
    "        predictions = model(features)\n",
    "        loss = model.loss_func(labels, predictions)\n",
    "    # 反向传播求梯度\n",
    "    dloss_dw,dloss_db = tape.gradient(loss,[w,b])\n",
    "    # 梯度下降法更新参数\n",
    "    w.assign(w - 0.001*dloss_dw)\n",
    "    b.assign(b - 0.001*dloss_db)\n",
    "    \n",
    "    return loss\n",
    " "
   ],
   "outputs": [],
   "metadata": {}
  },
  {
   "cell_type": "code",
   "execution_count": null,
   "source": [
    "# 测试train_step效果\n",
    "batch_size = 10\n",
    "(features,labels) = next(data_iter(X,Y,batch_size))\n",
    "train_step(model,features,labels)\n"
   ],
   "outputs": [],
   "metadata": {}
  },
  {
   "cell_type": "markdown",
   "source": [
    "```\n",
    "<tf.Tensor: shape=(), dtype=float32, numpy=211.09982>\n",
    "```"
   ],
   "metadata": {}
  },
  {
   "cell_type": "code",
   "execution_count": null,
   "source": [
    "def train_model(model,epochs):\n",
    "    for epoch in tf.range(1,epochs+1):\n",
    "        for features, labels in data_iter(X,Y,10):\n",
    "            loss = train_step(model,features,labels)\n",
    "\n",
    "        if epoch%50==0:\n",
    "            printbar()\n",
    "            tf.print(\"epoch =\",epoch,\"loss = \",loss)\n",
    "            tf.print(\"w =\",w)\n",
    "            tf.print(\"b =\",b)\n",
    "\n",
    "train_model(model,epochs = 200)\n"
   ],
   "outputs": [],
   "metadata": {}
  },
  {
   "cell_type": "markdown",
   "source": [
    "```\n",
    "================================================================================16:35:56\n",
    "epoch = 50 loss =  1.78806472\n",
    "w = [[1.97554708]\n",
    " [-2.97719598]]\n",
    "b = [[2.60692883]]\n",
    "================================================================================16:36:00\n",
    "epoch = 100 loss =  2.64588404\n",
    "w = [[1.97319281]\n",
    " [-2.97810626]]\n",
    "b = [[2.95525956]]\n",
    "================================================================================16:36:04\n",
    "epoch = 150 loss =  1.42576694\n",
    "w = [[1.96466208]\n",
    " [-2.98337793]]\n",
    "b = [[3.00264144]]\n",
    "================================================================================16:36:08\n",
    "epoch = 200 loss =  1.68992615\n",
    "w = [[1.97718477]\n",
    " [-2.983814]]\n",
    "b = [[3.01013041]]\n",
    "```"
   ],
   "metadata": {}
  },
  {
   "cell_type": "code",
   "execution_count": null,
   "source": [],
   "outputs": [],
   "metadata": {}
  },
  {
   "cell_type": "code",
   "execution_count": null,
   "source": [
    "##使用autograph机制转换成静态图加速\n",
    "\n",
    "@tf.function\n",
    "def train_step(model, features, labels):\n",
    "    with tf.GradientTape() as tape:\n",
    "        predictions = model(features)\n",
    "        loss = model.loss_func(labels, predictions)\n",
    "    # 反向传播求梯度\n",
    "    dloss_dw,dloss_db = tape.gradient(loss,[w,b])\n",
    "    # 梯度下降法更新参数\n",
    "    w.assign(w - 0.001*dloss_dw)\n",
    "    b.assign(b - 0.001*dloss_db)\n",
    "    \n",
    "    return loss\n",
    "\n",
    "def train_model(model,epochs):\n",
    "    for epoch in tf.range(1,epochs+1):\n",
    "        for features, labels in data_iter(X,Y,10):\n",
    "            loss = train_step(model,features,labels)\n",
    "        if epoch%50==0:\n",
    "            printbar()\n",
    "            tf.print(\"epoch =\",epoch,\"loss = \",loss)\n",
    "            tf.print(\"w =\",w)\n",
    "            tf.print(\"b =\",b)\n",
    "\n",
    "train_model(model,epochs = 200)\n"
   ],
   "outputs": [],
   "metadata": {}
  },
  {
   "cell_type": "markdown",
   "source": [
    "```\n",
    "================================================================================16:36:35\n",
    "epoch = 50 loss =  0.894210339\n",
    "w = [[1.96927285]\n",
    " [-2.98914337]]\n",
    "b = [[3.00987792]]\n",
    "================================================================================16:36:36\n",
    "epoch = 100 loss =  1.58621466\n",
    "w = [[1.97566223]\n",
    " [-2.98550248]]\n",
    "b = [[3.00998402]]\n",
    "================================================================================16:36:37\n",
    "epoch = 150 loss =  2.2695992\n",
    "w = [[1.96664226]\n",
    " [-2.99248481]]\n",
    "b = [[3.01028705]]\n",
    "================================================================================16:36:38\n",
    "epoch = 200 loss =  1.90848124\n",
    "w = [[1.98000824]\n",
    " [-2.98888135]]\n",
    "b = [[3.01085401]]\n",
    "```"
   ],
   "metadata": {}
  },
  {
   "cell_type": "code",
   "execution_count": null,
   "source": [],
   "outputs": [],
   "metadata": {}
  },
  {
   "cell_type": "code",
   "execution_count": null,
   "source": [
    "# 结果可视化\n",
    "\n",
    "%matplotlib inline\n",
    "%config InlineBackend.figure_format = 'svg'\n",
    "\n",
    "plt.figure(figsize = (12,5))\n",
    "ax1 = plt.subplot(121)\n",
    "ax1.scatter(X[:,0],Y[:,0], c = \"b\",label = \"samples\")\n",
    "ax1.plot(X[:,0],w[0]*X[:,0]+b[0],\"-r\",linewidth = 5.0,label = \"model\")\n",
    "ax1.legend()\n",
    "plt.xlabel(\"x1\")\n",
    "plt.ylabel(\"y\",rotation = 0)\n",
    "\n",
    "\n",
    "ax2 = plt.subplot(122)\n",
    "ax2.scatter(X[:,1],Y[:,0], c = \"g\",label = \"samples\")\n",
    "ax2.plot(X[:,1],w[1]*X[:,1]+b[0],\"-r\",linewidth = 5.0,label = \"model\")\n",
    "ax2.legend()\n",
    "plt.xlabel(\"x2\")\n",
    "plt.ylabel(\"y\",rotation = 0)\n",
    "\n",
    "plt.show()"
   ],
   "outputs": [],
   "metadata": {}
  },
  {
   "cell_type": "markdown",
   "source": [
    "![](./data/3-1-2-回归结果可视化.png)"
   ],
   "metadata": {}
  },
  {
   "cell_type": "code",
   "execution_count": null,
   "source": [],
   "outputs": [],
   "metadata": {}
  },
  {
   "cell_type": "markdown",
   "source": [
    "### 二，DNN二分类模型"
   ],
   "metadata": {}
  },
  {
   "cell_type": "code",
   "execution_count": null,
   "source": [],
   "outputs": [],
   "metadata": {}
  },
  {
   "cell_type": "markdown",
   "source": [
    "**1，准备数据**"
   ],
   "metadata": {}
  },
  {
   "cell_type": "code",
   "execution_count": null,
   "source": [
    "import numpy as np \n",
    "import pandas as pd \n",
    "from matplotlib import pyplot as plt\n",
    "import tensorflow as tf\n",
    "%matplotlib inline\n",
    "%config InlineBackend.figure_format = 'svg'\n",
    "\n",
    "#正负样本数量\n",
    "n_positive,n_negative = 2000,2000\n",
    "\n",
    "#生成正样本, 小圆环分布\n",
    "r_p = 5.0 + tf.random.truncated_normal([n_positive,1],0.0,1.0)\n",
    "theta_p = tf.random.uniform([n_positive,1],0.0,2*np.pi) \n",
    "Xp = tf.concat([r_p*tf.cos(theta_p),r_p*tf.sin(theta_p)],axis = 1)\n",
    "Yp = tf.ones_like(r_p)\n",
    "\n",
    "#生成负样本, 大圆环分布\n",
    "r_n = 8.0 + tf.random.truncated_normal([n_negative,1],0.0,1.0)\n",
    "theta_n = tf.random.uniform([n_negative,1],0.0,2*np.pi) \n",
    "Xn = tf.concat([r_n*tf.cos(theta_n),r_n*tf.sin(theta_n)],axis = 1)\n",
    "Yn = tf.zeros_like(r_n)\n",
    "\n",
    "#汇总样本\n",
    "X = tf.concat([Xp,Xn],axis = 0)\n",
    "Y = tf.concat([Yp,Yn],axis = 0)\n",
    "\n",
    "\n",
    "#可视化\n",
    "plt.figure(figsize = (6,6))\n",
    "plt.scatter(Xp[:,0].numpy(),Xp[:,1].numpy(),c = \"r\")\n",
    "plt.scatter(Xn[:,0].numpy(),Xn[:,1].numpy(),c = \"g\")\n",
    "plt.legend([\"positive\",\"negative\"]);\n"
   ],
   "outputs": [],
   "metadata": {}
  },
  {
   "cell_type": "markdown",
   "source": [
    "![](./data/3-1-03-分类数据可视化.png)"
   ],
   "metadata": {}
  },
  {
   "cell_type": "code",
   "execution_count": null,
   "source": [
    "# 构建数据管道迭代器\n",
    "def data_iter(features, labels, batch_size=8):\n",
    "    num_examples = len(features)\n",
    "    indices = list(range(num_examples))\n",
    "    np.random.shuffle(indices)  #样本的读取顺序是随机的\n",
    "    for i in range(0, num_examples, batch_size):\n",
    "        indexs = indices[i: min(i + batch_size, num_examples)]\n",
    "        yield tf.gather(features,indexs), tf.gather(labels,indexs)\n",
    "        \n",
    "# 测试数据管道效果   \n",
    "batch_size = 10\n",
    "(features,labels) = next(data_iter(X,Y,batch_size))\n",
    "print(features)\n",
    "print(labels)"
   ],
   "outputs": [],
   "metadata": {}
  },
  {
   "cell_type": "markdown",
   "source": [
    "```\n",
    "tf.Tensor(\n",
    "[[ 0.03732629  3.5783494 ]\n",
    " [ 0.542919    5.035079  ]\n",
    " [ 5.860281   -2.4476354 ]\n",
    " [ 0.63657564  3.194231  ]\n",
    " [-3.5072308   2.5578873 ]\n",
    " [-2.4109735  -3.6621518 ]\n",
    " [ 4.0975413  -2.4172943 ]\n",
    " [ 1.9393908  -6.782317  ]\n",
    " [-4.7453732  -0.5176727 ]\n",
    " [-1.4057113  -7.9775257 ]], shape=(10, 2), dtype=float32)\n",
    "tf.Tensor(\n",
    "[[1.]\n",
    " [1.]\n",
    " [0.]\n",
    " [1.]\n",
    " [1.]\n",
    " [1.]\n",
    " [1.]\n",
    " [0.]\n",
    " [1.]\n",
    " [0.]], shape=(10, 1), dtype=float32)\n",
    "```"
   ],
   "metadata": {}
  },
  {
   "cell_type": "code",
   "execution_count": null,
   "source": [],
   "outputs": [],
   "metadata": {}
  },
  {
   "cell_type": "markdown",
   "source": [
    "**2，定义模型**"
   ],
   "metadata": {}
  },
  {
   "cell_type": "markdown",
   "source": [
    "此处范例我们利用tf.Module来组织模型变量，关于tf.Module的较详细介绍参考本书第四章最后一节: Autograph和tf.Module。"
   ],
   "metadata": {}
  },
  {
   "cell_type": "code",
   "execution_count": null,
   "source": [
    "class DNNModel(tf.Module):\n",
    "    def __init__(self,name = None):\n",
    "        super(DNNModel, self).__init__(name=name)\n",
    "        self.w1 = tf.Variable(tf.random.truncated_normal([2,4]),dtype = tf.float32)\n",
    "        self.b1 = tf.Variable(tf.zeros([1,4]),dtype = tf.float32)\n",
    "        self.w2 = tf.Variable(tf.random.truncated_normal([4,8]),dtype = tf.float32)\n",
    "        self.b2 = tf.Variable(tf.zeros([1,8]),dtype = tf.float32)\n",
    "        self.w3 = tf.Variable(tf.random.truncated_normal([8,1]),dtype = tf.float32)\n",
    "        self.b3 = tf.Variable(tf.zeros([1,1]),dtype = tf.float32)\n",
    "\n",
    "     \n",
    "    # 正向传播\n",
    "    @tf.function(input_signature=[tf.TensorSpec(shape = [None,2], dtype = tf.float32)])  \n",
    "    def __call__(self,x):\n",
    "        x = tf.nn.relu(x@self.w1 + self.b1)\n",
    "        x = tf.nn.relu(x@self.w2 + self.b2)\n",
    "        y = tf.nn.sigmoid(x@self.w3 + self.b3)\n",
    "        return y\n",
    "    \n",
    "    # 损失函数(二元交叉熵)\n",
    "    @tf.function(input_signature=[tf.TensorSpec(shape = [None,1], dtype = tf.float32),\n",
    "                              tf.TensorSpec(shape = [None,1], dtype = tf.float32)])  \n",
    "    def loss_func(self,y_true,y_pred):  \n",
    "        #将预测值限制在 1e-7 以上, 1 - 1e-7 以下，避免log(0)错误\n",
    "        eps = 1e-7\n",
    "        y_pred = tf.clip_by_value(y_pred,eps,1.0-eps)\n",
    "        bce = - y_true*tf.math.log(y_pred) - (1-y_true)*tf.math.log(1-y_pred)\n",
    "        return  tf.reduce_mean(bce)\n",
    "    \n",
    "    # 评估指标(准确率)\n",
    "    @tf.function(input_signature=[tf.TensorSpec(shape = [None,1], dtype = tf.float32),\n",
    "                              tf.TensorSpec(shape = [None,1], dtype = tf.float32)]) \n",
    "    def metric_func(self,y_true,y_pred):\n",
    "        y_pred = tf.where(y_pred>0.5,tf.ones_like(y_pred,dtype = tf.float32),\n",
    "                          tf.zeros_like(y_pred,dtype = tf.float32))\n",
    "        acc = tf.reduce_mean(1-tf.abs(y_true-y_pred))\n",
    "        return acc\n",
    "    \n",
    "model = DNNModel()"
   ],
   "outputs": [],
   "metadata": {}
  },
  {
   "cell_type": "code",
   "execution_count": null,
   "source": [
    "# 测试模型结构\n",
    "batch_size = 10\n",
    "(features,labels) = next(data_iter(X,Y,batch_size))\n",
    "\n",
    "predictions = model(features)\n",
    "\n",
    "loss = model.loss_func(labels,predictions)\n",
    "metric = model.metric_func(labels,predictions)\n",
    "\n",
    "tf.print(\"init loss:\",loss)\n",
    "tf.print(\"init metric\",metric)"
   ],
   "outputs": [],
   "metadata": {}
  },
  {
   "cell_type": "markdown",
   "source": [
    "```\n",
    "init loss: 1.76568353\n",
    "init metric 0.6\n",
    "```"
   ],
   "metadata": {}
  },
  {
   "cell_type": "code",
   "execution_count": null,
   "source": [
    "print(len(model.trainable_variables))"
   ],
   "outputs": [],
   "metadata": {}
  },
  {
   "cell_type": "markdown",
   "source": [
    "```\n",
    "6\n",
    "```"
   ],
   "metadata": {}
  },
  {
   "cell_type": "code",
   "execution_count": null,
   "source": [],
   "outputs": [],
   "metadata": {}
  },
  {
   "cell_type": "markdown",
   "source": [
    "**3，训练模型**"
   ],
   "metadata": {}
  },
  {
   "cell_type": "code",
   "execution_count": null,
   "source": [
    "##使用autograph机制转换成静态图加速\n",
    "\n",
    "@tf.function\n",
    "def train_step(model, features, labels):\n",
    "    \n",
    "    # 正向传播求损失\n",
    "    with tf.GradientTape() as tape:\n",
    "        predictions = model(features)\n",
    "        loss = model.loss_func(labels, predictions) \n",
    "        \n",
    "    # 反向传播求梯度\n",
    "    grads = tape.gradient(loss, model.trainable_variables)\n",
    "    \n",
    "    # 执行梯度下降\n",
    "    for p, dloss_dp in zip(model.trainable_variables,grads):\n",
    "        p.assign(p - 0.001*dloss_dp)\n",
    "        \n",
    "    # 计算评估指标\n",
    "    metric = model.metric_func(labels,predictions)\n",
    "    \n",
    "    return loss, metric\n",
    "\n",
    "\n",
    "def train_model(model,epochs):\n",
    "    for epoch in tf.range(1,epochs+1):\n",
    "        for features, labels in data_iter(X,Y,100):\n",
    "            loss,metric = train_step(model,features,labels)\n",
    "        if epoch%100==0:\n",
    "            printbar()\n",
    "            tf.print(\"epoch =\",epoch,\"loss = \",loss, \"accuracy = \", metric)\n",
    "        \n",
    "\n",
    "train_model(model,epochs = 600)"
   ],
   "outputs": [],
   "metadata": {}
  },
  {
   "cell_type": "markdown",
   "source": [
    "```\n",
    "================================================================================16:47:35\n",
    "epoch = 100 loss =  0.567795336 accuracy =  0.71\n",
    "================================================================================16:47:39\n",
    "epoch = 200 loss =  0.50955683 accuracy =  0.77\n",
    "================================================================================16:47:43\n",
    "epoch = 300 loss =  0.421476126 accuracy =  0.84\n",
    "================================================================================16:47:47\n",
    "epoch = 400 loss =  0.330618203 accuracy =  0.9\n",
    "================================================================================16:47:51\n",
    "epoch = 500 loss =  0.308296859 accuracy =  0.89\n",
    "================================================================================16:47:55\n",
    "epoch = 600 loss =  0.279367268 accuracy =  0.96\n",
    "```"
   ],
   "metadata": {}
  },
  {
   "cell_type": "code",
   "execution_count": null,
   "source": [],
   "outputs": [],
   "metadata": {}
  },
  {
   "cell_type": "code",
   "execution_count": null,
   "source": [
    "# 结果可视化\n",
    "fig, (ax1,ax2) = plt.subplots(nrows=1,ncols=2,figsize = (12,5))\n",
    "ax1.scatter(Xp[:,0],Xp[:,1],c = \"r\")\n",
    "ax1.scatter(Xn[:,0],Xn[:,1],c = \"g\")\n",
    "ax1.legend([\"positive\",\"negative\"]);\n",
    "ax1.set_title(\"y_true\");\n",
    "\n",
    "Xp_pred = tf.boolean_mask(X,tf.squeeze(model(X)>=0.5),axis = 0)\n",
    "Xn_pred = tf.boolean_mask(X,tf.squeeze(model(X)<0.5),axis = 0)\n",
    "\n",
    "ax2.scatter(Xp_pred[:,0],Xp_pred[:,1],c = \"r\")\n",
    "ax2.scatter(Xn_pred[:,0],Xn_pred[:,1],c = \"g\")\n",
    "ax2.legend([\"positive\",\"negative\"]);\n",
    "ax2.set_title(\"y_pred\");\n"
   ],
   "outputs": [],
   "metadata": {}
  },
  {
   "cell_type": "markdown",
   "source": [
    "![](./data/3-1-04-分类结果可视化.png)"
   ],
   "metadata": {}
  },
  {
   "cell_type": "code",
   "execution_count": null,
   "source": [],
   "outputs": [],
   "metadata": {}
  },
  {
   "cell_type": "markdown",
   "source": [
    "如果对本书内容理解上有需要进一步和作者交流的地方，欢迎在公众号\"算法美食屋\"下留言。作者时间和精力有限，会酌情予以回复。\n",
    "\n",
    "也可以在公众号后台回复关键字：**加群**，加入读者交流群和大家讨论。\n",
    "\n",
    "![算法美食屋二维码.jpg](./data/算法美食屋二维码.jpg)"
   ],
   "metadata": {}
  }
 ],
 "metadata": {
  "jupytext": {
   "cell_metadata_filter": "-all",
   "main_language": "python",
   "notebook_metadata_filter": "-all"
  },
  "language_info": {
   "name": "python"
  }
 },
 "nbformat": 4,
 "nbformat_minor": 5
}