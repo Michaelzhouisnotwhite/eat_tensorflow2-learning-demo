{
 "cells": [
  {
   "cell_type": "markdown",
   "id": "ed3c194a",
   "metadata": {},
   "source": [
    "# 六、TensorFlow的高阶API\n",
    "\n",
    "TensorFlow的高阶API主要是tensorflow.keras.models.\n",
    "\n",
    "本章我们主要详细介绍tensorflow.keras.models相关的以下内容。\n",
    "\n",
    "* 模型的构建（Sequential、functional API、Model子类化）\n",
    "\n",
    "* 模型的训练（内置fit方法、内置train_on_batch方法、自定义训练循环、单GPU训练模型、多GPU训练模型、TPU训练模型）\n",
    "\n",
    "* 模型的部署（tensorflow serving部署模型、使用spark(scala)调用tensorflow模型）"
   ]
  },
  {
   "cell_type": "markdown",
   "id": "94f1a9b9",
   "metadata": {},
   "source": [
    "如果对本书内容理解上有需要进一步和作者交流的地方，欢迎在公众号\"算法美食屋\"下留言。作者时间和精力有限，会酌情予以回复。\n",
    "\n",
    "也可以在公众号后台回复关键字：**加群**，加入读者交流群和大家讨论。\n",
    "\n",
    "![image.png](./data/算法美食屋二维码.jpg)"
   ]
  }
 ],
 "metadata": {
  "jupytext": {
   "cell_metadata_filter": "-all",
   "main_language": "python",
   "notebook_metadata_filter": "-all"
  }
 },
 "nbformat": 4,
 "nbformat_minor": 5
}
