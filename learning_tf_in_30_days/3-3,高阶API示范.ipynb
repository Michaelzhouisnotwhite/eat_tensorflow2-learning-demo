{
 "cells": [
  {
   "cell_type": "markdown",
   "id": "e1d884d8",
   "metadata": {},
   "source": [
    "# 3-3,高阶API示范\n",
    "\n",
    "下面的范例使用TensorFlow的高阶API实现线性回归模型和DNN二分类模型。\n",
    "\n",
    "TensorFlow的高阶API主要为tf.keras.models提供的模型的类接口。"
   ]
  },
  {
   "cell_type": "markdown",
   "id": "6e46a100",
   "metadata": {},
   "source": [
    "使用Keras接口有以下3种方式构建模型：使用Sequential按层顺序构建模型，使用函数式API构建任意结构模型，继承Model基类构建自定义模型。\n",
    "\n",
    "此处分别演示使用Sequential按层顺序构建模型以及继承Model基类构建自定义模型。"
   ]
  },
  {
   "cell_type": "code",
   "execution_count": null,
   "id": "157f191c",
   "metadata": {},
   "outputs": [],
   "source": [
    "import tensorflow as tf\n",
    "\n",
    "#打印时间分割线\n",
    "@tf.function\n",
    "def printbar():\n",
    "    today_ts = tf.timestamp()%(24*60*60)\n",
    "\n",
    "    hour = tf.cast(today_ts//3600+8,tf.int32)%tf.constant(24)\n",
    "    minite = tf.cast((today_ts%3600)//60,tf.int32)\n",
    "    second = tf.cast(tf.floor(today_ts%60),tf.int32)\n",
    "    \n",
    "    def timeformat(m):\n",
    "        if tf.strings.length(tf.strings.format(\"{}\",m))==1:\n",
    "            return(tf.strings.format(\"0{}\",m))\n",
    "        else:\n",
    "            return(tf.strings.format(\"{}\",m))\n",
    "    \n",
    "    timestring = tf.strings.join([timeformat(hour),timeformat(minite),\n",
    "                timeformat(second)],separator = \":\")\n",
    "    tf.print(\"==========\"*8+timestring)\n",
    "\n",
    "    "
   ]
  },
  {
   "cell_type": "markdown",
   "id": "856161a0",
   "metadata": {},
   "source": [
    "### 一，线性回归模型"
   ]
  },
  {
   "cell_type": "markdown",
   "id": "65f3b723",
   "metadata": {},
   "source": [
    "此范例我们使用Sequential按层顺序构建模型，并使用内置model.fit方法训练模型【面向新手】。"
   ]
  },
  {
   "cell_type": "markdown",
   "id": "8ad8f9fd",
   "metadata": {},
   "source": [
    "**1，准备数据**"
   ]
  },
  {
   "cell_type": "code",
   "execution_count": null,
   "id": "73bf909a",
   "metadata": {},
   "outputs": [],
   "source": [
    "import numpy as np \n",
    "import pandas as pd\n",
    "from matplotlib import pyplot as plt \n",
    "import tensorflow as tf\n",
    "from tensorflow.keras import models,layers,losses,metrics,optimizers\n",
    "\n",
    "#样本数量\n",
    "n = 400\n",
    "\n",
    "# 生成测试用数据集\n",
    "X = tf.random.uniform([n,2],minval=-10,maxval=10) \n",
    "w0 = tf.constant([[2.0],[-3.0]])\n",
    "b0 = tf.constant([[3.0]])\n",
    "Y = X@w0 + b0 + tf.random.normal([n,1],mean = 0.0,stddev= 2.0)  # @表示矩阵乘法,增加正态扰动\n"
   ]
  },
  {
   "cell_type": "code",
   "execution_count": null,
   "id": "3bdb1975",
   "metadata": {},
   "outputs": [],
   "source": [
    "# 数据可视化\n",
    "\n",
    "%matplotlib inline\n",
    "%config InlineBackend.figure_format = 'svg'\n",
    "plt.figure(figsize = (12,5))\n",
    "ax1 = plt.subplot(121)\n",
    "ax1.scatter(X[:,0],Y[:,0], c = \"b\")\n",
    "plt.xlabel(\"x1\")\n",
    "plt.ylabel(\"y\",rotation = 0)\n",
    "\n",
    "ax2 = plt.subplot(122)\n",
    "ax2.scatter(X[:,1],Y[:,0], c = \"g\")\n",
    "plt.xlabel(\"x2\")\n",
    "plt.ylabel(\"y\",rotation = 0)\n",
    "plt.show()\n"
   ]
  },
  {
   "cell_type": "markdown",
   "id": "29661359",
   "metadata": {},
   "source": [
    "![](./data/3-3-01-回归数据可视化.png)"
   ]
  },
  {
   "cell_type": "code",
   "execution_count": null,
   "id": "aa3a7dd9",
   "metadata": {},
   "outputs": [],
   "source": []
  },
  {
   "cell_type": "markdown",
   "id": "e1881780",
   "metadata": {},
   "source": [
    "**2，定义模型**"
   ]
  },
  {
   "cell_type": "code",
   "execution_count": null,
   "id": "e3552852",
   "metadata": {},
   "outputs": [],
   "source": [
    "tf.keras.backend.clear_session()\n",
    "\n",
    "model = models.Sequential()\n",
    "model.add(layers.Dense(1,input_shape =(2,)))\n",
    "model.summary()"
   ]
  },
  {
   "cell_type": "markdown",
   "id": "981223fa",
   "metadata": {},
   "source": [
    "```\n",
    "Model: \"sequential\"\n",
    "_________________________________________________________________\n",
    "Layer (type)                 Output Shape              Param #   \n",
    "=================================================================\n",
    "dense (Dense)                (None, 1)                 3         \n",
    "=================================================================\n",
    "Total params: 3\n",
    "Trainable params: 3\n",
    "Non-trainable params: 0\n",
    "```"
   ]
  },
  {
   "cell_type": "code",
   "execution_count": null,
   "id": "97a468e5",
   "metadata": {},
   "outputs": [],
   "source": []
  },
  {
   "cell_type": "markdown",
   "id": "16d976c1",
   "metadata": {},
   "source": [
    "**3，训练模型**"
   ]
  },
  {
   "cell_type": "code",
   "execution_count": null,
   "id": "f4ec2b56",
   "metadata": {},
   "outputs": [],
   "source": [
    "### 使用fit方法进行训练\n",
    "\n",
    "model.compile(optimizer=\"adam\",loss=\"mse\",metrics=[\"mae\"])\n",
    "model.fit(X,Y,batch_size = 10,epochs = 200)  \n",
    "\n",
    "tf.print(\"w = \",model.layers[0].kernel)\n",
    "tf.print(\"b = \",model.layers[0].bias)\n"
   ]
  },
  {
   "cell_type": "markdown",
   "id": "6258ca65",
   "metadata": {},
   "source": [
    "```\n",
    "Epoch 197/200\n",
    "400/400 [==============================] - 0s 190us/sample - loss: 4.3977 - mae: 1.7129\n",
    "Epoch 198/200\n",
    "400/400 [==============================] - 0s 172us/sample - loss: 4.3918 - mae: 1.7117\n",
    "Epoch 199/200\n",
    "400/400 [==============================] - 0s 134us/sample - loss: 4.3861 - mae: 1.7106\n",
    "Epoch 200/200\n",
    "400/400 [==============================] - 0s 166us/sample - loss: 4.3786 - mae: 1.7092\n",
    "w =  [[1.99339032]\n",
    " [-3.00866461]]\n",
    "b =  [2.67018795]\n",
    "```"
   ]
  },
  {
   "cell_type": "code",
   "execution_count": null,
   "id": "f1f0d643",
   "metadata": {},
   "outputs": [],
   "source": [
    "# 结果可视化\n",
    "\n",
    "%matplotlib inline\n",
    "%config InlineBackend.figure_format = 'svg'\n",
    "\n",
    "w,b = model.variables\n",
    "\n",
    "plt.figure(figsize = (12,5))\n",
    "ax1 = plt.subplot(121)\n",
    "ax1.scatter(X[:,0],Y[:,0], c = \"b\",label = \"samples\")\n",
    "ax1.plot(X[:,0],w[0]*X[:,0]+b[0],\"-r\",linewidth = 5.0,label = \"model\")\n",
    "ax1.legend()\n",
    "plt.xlabel(\"x1\")\n",
    "plt.ylabel(\"y\",rotation = 0)\n",
    "\n",
    "ax2 = plt.subplot(122)\n",
    "ax2.scatter(X[:,1],Y[:,0], c = \"g\",label = \"samples\")\n",
    "ax2.plot(X[:,1],w[1]*X[:,1]+b[0],\"-r\",linewidth = 5.0,label = \"model\")\n",
    "ax2.legend()\n",
    "plt.xlabel(\"x2\")\n",
    "plt.ylabel(\"y\",rotation = 0)\n",
    "\n",
    "plt.show()"
   ]
  },
  {
   "cell_type": "markdown",
   "id": "2de2c97d",
   "metadata": {},
   "source": [
    "![](./data/3-3-02-回归结果可视化.png)"
   ]
  },
  {
   "cell_type": "code",
   "execution_count": null,
   "id": "72acc9ae",
   "metadata": {},
   "outputs": [],
   "source": []
  },
  {
   "cell_type": "markdown",
   "id": "4afca52c",
   "metadata": {},
   "source": [
    "### 二，DNN二分类模型"
   ]
  },
  {
   "cell_type": "markdown",
   "id": "f4e90812",
   "metadata": {},
   "source": [
    "此范例我们使用继承Model基类构建自定义模型，并构建自定义训练循环【面向专家】"
   ]
  },
  {
   "cell_type": "markdown",
   "id": "0b260f4e",
   "metadata": {},
   "source": [
    "**1，准备数据**"
   ]
  },
  {
   "cell_type": "code",
   "execution_count": null,
   "id": "c8033446",
   "metadata": {},
   "outputs": [],
   "source": [
    "import numpy as np \n",
    "import pandas as pd \n",
    "from matplotlib import pyplot as plt\n",
    "import tensorflow as tf\n",
    "from tensorflow.keras import layers,losses,metrics,optimizers\n",
    "%matplotlib inline\n",
    "%config InlineBackend.figure_format = 'svg'\n",
    "\n",
    "#正负样本数量\n",
    "n_positive,n_negative = 2000,2000\n",
    "\n",
    "#生成正样本, 小圆环分布\n",
    "r_p = 5.0 + tf.random.truncated_normal([n_positive,1],0.0,1.0)\n",
    "theta_p = tf.random.uniform([n_positive,1],0.0,2*np.pi) \n",
    "Xp = tf.concat([r_p*tf.cos(theta_p),r_p*tf.sin(theta_p)],axis = 1)\n",
    "Yp = tf.ones_like(r_p)\n",
    "\n",
    "#生成负样本, 大圆环分布\n",
    "r_n = 8.0 + tf.random.truncated_normal([n_negative,1],0.0,1.0)\n",
    "theta_n = tf.random.uniform([n_negative,1],0.0,2*np.pi) \n",
    "Xn = tf.concat([r_n*tf.cos(theta_n),r_n*tf.sin(theta_n)],axis = 1)\n",
    "Yn = tf.zeros_like(r_n)\n",
    "\n",
    "#汇总样本\n",
    "X = tf.concat([Xp,Xn],axis = 0)\n",
    "Y = tf.concat([Yp,Yn],axis = 0)\n",
    "\n",
    "#样本洗牌\n",
    "data = tf.concat([X,Y],axis = 1)\n",
    "data = tf.random.shuffle(data)\n",
    "X = data[:,:2]\n",
    "Y = data[:,2:]\n",
    "\n",
    "\n",
    "#可视化\n",
    "plt.figure(figsize = (6,6))\n",
    "plt.scatter(Xp[:,0].numpy(),Xp[:,1].numpy(),c = \"r\")\n",
    "plt.scatter(Xn[:,0].numpy(),Xn[:,1].numpy(),c = \"g\")\n",
    "plt.legend([\"positive\",\"negative\"]);\n"
   ]
  },
  {
   "cell_type": "markdown",
   "id": "592d5821",
   "metadata": {},
   "source": [
    "![](./data/3-3-03-分类数据可视化.png)"
   ]
  },
  {
   "cell_type": "code",
   "execution_count": null,
   "id": "deb5c412",
   "metadata": {},
   "outputs": [],
   "source": [
    "ds_train = tf.data.Dataset.from_tensor_slices((X[0:n*3//4,:],Y[0:n*3//4,:])) \\\n",
    "     .shuffle(buffer_size = 1000).batch(20) \\\n",
    "     .prefetch(tf.data.experimental.AUTOTUNE) \\\n",
    "     .cache()\n",
    "\n",
    "ds_valid = tf.data.Dataset.from_tensor_slices((X[n*3//4:,:],Y[n*3//4:,:])) \\\n",
    "     .batch(20) \\\n",
    "     .prefetch(tf.data.experimental.AUTOTUNE) \\\n",
    "     .cache()\n"
   ]
  },
  {
   "cell_type": "code",
   "execution_count": null,
   "id": "306b5aa1",
   "metadata": {},
   "outputs": [],
   "source": []
  },
  {
   "cell_type": "markdown",
   "id": "ebc85240",
   "metadata": {},
   "source": [
    "**2，定义模型**"
   ]
  },
  {
   "cell_type": "code",
   "execution_count": null,
   "id": "97d715e6",
   "metadata": {},
   "outputs": [],
   "source": [
    "tf.keras.backend.clear_session()\n",
    "class DNNModel(models.Model):\n",
    "    def __init__(self):\n",
    "        super(DNNModel, self).__init__()\n",
    "        \n",
    "    def build(self,input_shape):\n",
    "        self.dense1 = layers.Dense(4,activation = \"relu\",name = \"dense1\") \n",
    "        self.dense2 = layers.Dense(8,activation = \"relu\",name = \"dense2\")\n",
    "        self.dense3 = layers.Dense(1,activation = \"sigmoid\",name = \"dense3\")\n",
    "        super(DNNModel,self).build(input_shape)\n",
    " \n",
    "    # 正向传播\n",
    "    @tf.function(input_signature=[tf.TensorSpec(shape = [None,2], dtype = tf.float32)])  \n",
    "    def call(self,x):\n",
    "        x = self.dense1(x)\n",
    "        x = self.dense2(x)\n",
    "        y = self.dense3(x)\n",
    "        return y\n",
    "\n",
    "model = DNNModel()\n",
    "model.build(input_shape =(None,2))\n",
    "\n",
    "model.summary()"
   ]
  },
  {
   "cell_type": "markdown",
   "id": "ab1731ef",
   "metadata": {},
   "source": [
    "```\n",
    "Model: \"dnn_model\"\n",
    "_________________________________________________________________\n",
    "Layer (type)                 Output Shape              Param #   \n",
    "=================================================================\n",
    "dense1 (Dense)               multiple                  12        \n",
    "_________________________________________________________________\n",
    "dense2 (Dense)               multiple                  40        \n",
    "_________________________________________________________________\n",
    "dense3 (Dense)               multiple                  9         \n",
    "=================================================================\n",
    "Total params: 61\n",
    "Trainable params: 61\n",
    "Non-trainable params: 0\n",
    "_________________________________________________________________\n",
    "```"
   ]
  },
  {
   "cell_type": "code",
   "execution_count": null,
   "id": "d1ec74cd",
   "metadata": {},
   "outputs": [],
   "source": []
  },
  {
   "cell_type": "markdown",
   "id": "c3ecdcdb",
   "metadata": {},
   "source": [
    "**3，训练模型**"
   ]
  },
  {
   "cell_type": "code",
   "execution_count": null,
   "id": "5858acc4",
   "metadata": {},
   "outputs": [],
   "source": []
  },
  {
   "cell_type": "code",
   "execution_count": null,
   "id": "929ede68",
   "metadata": {},
   "outputs": [],
   "source": [
    "### 自定义训练循环\n",
    "\n",
    "optimizer = optimizers.Adam(learning_rate=0.01)\n",
    "loss_func = tf.keras.losses.BinaryCrossentropy()\n",
    "\n",
    "train_loss = tf.keras.metrics.Mean(name='train_loss')\n",
    "train_metric = tf.keras.metrics.BinaryAccuracy(name='train_accuracy')\n",
    "\n",
    "valid_loss = tf.keras.metrics.Mean(name='valid_loss')\n",
    "valid_metric = tf.keras.metrics.BinaryAccuracy(name='valid_accuracy')\n",
    "\n",
    "\n",
    "@tf.function\n",
    "def train_step(model, features, labels):\n",
    "    with tf.GradientTape() as tape:\n",
    "        predictions = model(features)\n",
    "        loss = loss_func(labels, predictions)\n",
    "    grads = tape.gradient(loss, model.trainable_variables)\n",
    "    optimizer.apply_gradients(zip(grads, model.trainable_variables))\n",
    "\n",
    "    train_loss.update_state(loss)\n",
    "    train_metric.update_state(labels, predictions)\n",
    "\n",
    "@tf.function\n",
    "def valid_step(model, features, labels):\n",
    "    predictions = model(features)\n",
    "    batch_loss = loss_func(labels, predictions)\n",
    "    valid_loss.update_state(batch_loss)\n",
    "    valid_metric.update_state(labels, predictions)\n",
    "    \n",
    "\n",
    "def train_model(model,ds_train,ds_valid,epochs):\n",
    "    for epoch in tf.range(1,epochs+1):\n",
    "        for features, labels in ds_train:\n",
    "            train_step(model,features,labels)\n",
    "\n",
    "        for features, labels in ds_valid:\n",
    "            valid_step(model,features,labels)\n",
    "\n",
    "        logs = 'Epoch={},Loss:{},Accuracy:{},Valid Loss:{},Valid Accuracy:{}'\n",
    "        \n",
    "        if  epoch%100 ==0:\n",
    "            printbar()\n",
    "            tf.print(tf.strings.format(logs,\n",
    "            (epoch,train_loss.result(),train_metric.result(),valid_loss.result(),valid_metric.result())))\n",
    "        \n",
    "        train_loss.reset_states()\n",
    "        valid_loss.reset_states()\n",
    "        train_metric.reset_states()\n",
    "        valid_metric.reset_states()\n",
    "\n",
    "train_model(model,ds_train,ds_valid,1000)"
   ]
  },
  {
   "cell_type": "markdown",
   "id": "ed612ef6",
   "metadata": {},
   "source": [
    "```\n",
    "================================================================================17:35:02\n",
    "Epoch=100,Loss:0.194088802,Accuracy:0.923064,Valid Loss:0.215538561,Valid Accuracy:0.904368\n",
    "================================================================================17:35:22\n",
    "Epoch=200,Loss:0.151239693,Accuracy:0.93768847,Valid Loss:0.181166962,Valid Accuracy:0.920664132\n",
    "================================================================================17:35:43\n",
    "Epoch=300,Loss:0.134556711,Accuracy:0.944247484,Valid Loss:0.171530813,Valid Accuracy:0.926396072\n",
    "================================================================================17:36:04\n",
    "Epoch=400,Loss:0.125722557,Accuracy:0.949172914,Valid Loss:0.16731061,Valid Accuracy:0.929318547\n",
    "================================================================================17:36:24\n",
    "Epoch=500,Loss:0.120216407,Accuracy:0.952525079,Valid Loss:0.164817035,Valid Accuracy:0.931044817\n",
    "================================================================================17:36:44\n",
    "Epoch=600,Loss:0.116434008,Accuracy:0.954830289,Valid Loss:0.163089141,Valid Accuracy:0.932202339\n",
    "================================================================================17:37:05\n",
    "Epoch=700,Loss:0.113658346,Accuracy:0.956433,Valid Loss:0.161804497,Valid Accuracy:0.933092058\n",
    "================================================================================17:37:25\n",
    "Epoch=800,Loss:0.111522928,Accuracy:0.957467675,Valid Loss:0.160796657,Valid Accuracy:0.93379426\n",
    "================================================================================17:37:46\n",
    "Epoch=900,Loss:0.109816991,Accuracy:0.958205402,Valid Loss:0.159987748,Valid Accuracy:0.934343576\n",
    "================================================================================17:38:06\n",
    "Epoch=1000,Loss:0.10841465,Accuracy:0.958805501,Valid Loss:0.159325734,Valid Accuracy:0.934785843\n",
    "```"
   ]
  },
  {
   "cell_type": "code",
   "execution_count": null,
   "id": "d714699a",
   "metadata": {},
   "outputs": [],
   "source": []
  },
  {
   "cell_type": "code",
   "execution_count": null,
   "id": "c6bc25be",
   "metadata": {},
   "outputs": [],
   "source": [
    "# 结果可视化\n",
    "fig, (ax1,ax2) = plt.subplots(nrows=1,ncols=2,figsize = (12,5))\n",
    "ax1.scatter(Xp[:,0].numpy(),Xp[:,1].numpy(),c = \"r\")\n",
    "ax1.scatter(Xn[:,0].numpy(),Xn[:,1].numpy(),c = \"g\")\n",
    "ax1.legend([\"positive\",\"negative\"]);\n",
    "ax1.set_title(\"y_true\");\n",
    "\n",
    "Xp_pred = tf.boolean_mask(X,tf.squeeze(model(X)>=0.5),axis = 0)\n",
    "Xn_pred = tf.boolean_mask(X,tf.squeeze(model(X)<0.5),axis = 0)\n",
    "\n",
    "ax2.scatter(Xp_pred[:,0].numpy(),Xp_pred[:,1].numpy(),c = \"r\")\n",
    "ax2.scatter(Xn_pred[:,0].numpy(),Xn_pred[:,1].numpy(),c = \"g\")\n",
    "ax2.legend([\"positive\",\"negative\"]);\n",
    "ax2.set_title(\"y_pred\");"
   ]
  },
  {
   "cell_type": "markdown",
   "id": "4b9ca549",
   "metadata": {},
   "source": [
    "![](./data/3-3-04-分类结果可视化.png)"
   ]
  },
  {
   "cell_type": "code",
   "execution_count": null,
   "id": "4d8bf4f1",
   "metadata": {},
   "outputs": [],
   "source": []
  },
  {
   "cell_type": "markdown",
   "id": "4047eb41",
   "metadata": {},
   "source": [
    "如果对本书内容理解上有需要进一步和作者交流的地方，欢迎在公众号\"算法美食屋\"下留言。作者时间和精力有限，会酌情予以回复。\n",
    "\n",
    "也可以在公众号后台回复关键字：**加群**，加入读者交流群和大家讨论。\n",
    "\n",
    "![算法美食屋二维码.jpg](./data/算法美食屋二维码.jpg)"
   ]
  }
 ],
 "metadata": {
  "jupytext": {
   "cell_metadata_filter": "-all",
   "main_language": "python",
   "notebook_metadata_filter": "-all"
  }
 },
 "nbformat": 4,
 "nbformat_minor": 5
}
