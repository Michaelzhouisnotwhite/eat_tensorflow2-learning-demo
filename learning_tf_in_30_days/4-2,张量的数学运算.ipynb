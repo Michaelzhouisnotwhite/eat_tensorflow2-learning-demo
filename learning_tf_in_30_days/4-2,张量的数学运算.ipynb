{
 "cells": [
  {
   "cell_type": "markdown",
   "id": "d0cb91c2",
   "metadata": {},
   "source": [
    "# 4-2,张量的数学运算\n",
    "\n",
    "张量的操作主要包括张量的结构操作和张量的数学运算。\n",
    "\n",
    "张量结构操作诸如：张量创建，索引切片，维度变换，合并分割。\n",
    "\n",
    "张量数学运算主要有：标量运算，向量运算，矩阵运算。另外我们会介绍张量运算的广播机制。\n",
    "\n",
    "本篇我们介绍张量的数学运算。"
   ]
  },
  {
   "cell_type": "code",
   "execution_count": null,
   "id": "76a299e0",
   "metadata": {},
   "outputs": [],
   "source": []
  },
  {
   "cell_type": "markdown",
   "id": "e5b59ecb",
   "metadata": {},
   "source": [
    "### 一，标量运算"
   ]
  },
  {
   "cell_type": "markdown",
   "id": "cddcb672",
   "metadata": {},
   "source": [
    "张量的数学运算符可以分为标量运算符、向量运算符、以及矩阵运算符。\n",
    "\n",
    "加减乘除乘方，以及三角函数，指数，对数等常见函数，逻辑比较运算符等都是标量运算符。\n",
    "\n",
    "标量运算符的特点是对张量实施逐元素运算。\n",
    "\n",
    "有些标量运算符对常用的数学运算符进行了重载。并且支持类似numpy的广播特性。\n",
    "\n",
    "许多标量运算符都在 tf.math模块下。"
   ]
  },
  {
   "cell_type": "code",
   "execution_count": null,
   "id": "9ab6bf6f",
   "metadata": {},
   "outputs": [],
   "source": [
    "import tensorflow as tf \n",
    "import numpy as np "
   ]
  },
  {
   "cell_type": "code",
   "execution_count": null,
   "id": "668a7d08",
   "metadata": {},
   "outputs": [],
   "source": [
    "a = tf.constant([[1.0,2],[-3,4.0]])\n",
    "b = tf.constant([[5.0,6],[7.0,8.0]])\n",
    "a+b  #运算符重载"
   ]
  },
  {
   "cell_type": "markdown",
   "id": "0a3834e9",
   "metadata": {},
   "source": [
    "```\n",
    "<tf.Tensor: shape=(2, 2), dtype=float32, numpy=\n",
    "array([[ 6.,  8.],\n",
    "       [ 4., 12.]], dtype=float32)>\n",
    "```"
   ]
  },
  {
   "cell_type": "code",
   "execution_count": null,
   "id": "3e7f6f64",
   "metadata": {},
   "outputs": [],
   "source": [
    "a-b "
   ]
  },
  {
   "cell_type": "markdown",
   "id": "458300da",
   "metadata": {},
   "source": [
    "```\n",
    "<tf.Tensor: shape=(2, 2), dtype=float32, numpy=\n",
    "array([[ -4.,  -4.],\n",
    "       [-10.,  -4.]], dtype=float32)>\n",
    "```"
   ]
  },
  {
   "cell_type": "code",
   "execution_count": null,
   "id": "5310e06b",
   "metadata": {},
   "outputs": [],
   "source": [
    "a*b "
   ]
  },
  {
   "cell_type": "markdown",
   "id": "cb802220",
   "metadata": {},
   "source": [
    "```\n",
    "<tf.Tensor: shape=(2, 2), dtype=float32, numpy=\n",
    "array([[  5.,  12.],\n",
    "       [-21.,  32.]], dtype=float32)>\n",
    "```"
   ]
  },
  {
   "cell_type": "code",
   "execution_count": null,
   "id": "89b475d8",
   "metadata": {},
   "outputs": [],
   "source": [
    "a/b"
   ]
  },
  {
   "cell_type": "markdown",
   "id": "88be36d2",
   "metadata": {},
   "source": [
    "```\n",
    "<tf.Tensor: shape=(2, 2), dtype=float32, numpy=\n",
    "array([[ 0.2       ,  0.33333334],\n",
    "       [-0.42857143,  0.5       ]], dtype=float32)>\n",
    "```"
   ]
  },
  {
   "cell_type": "code",
   "execution_count": null,
   "id": "9f57502d",
   "metadata": {},
   "outputs": [],
   "source": [
    "a**2"
   ]
  },
  {
   "cell_type": "markdown",
   "id": "39d5e5ef",
   "metadata": {},
   "source": [
    "```\n",
    "<tf.Tensor: shape=(2, 2), dtype=float32, numpy=\n",
    "array([[ 1.,  4.],\n",
    "       [ 9., 16.]], dtype=float32)>\n",
    "```"
   ]
  },
  {
   "cell_type": "code",
   "execution_count": null,
   "id": "83eea3d9",
   "metadata": {},
   "outputs": [],
   "source": [
    "a**(0.5)"
   ]
  },
  {
   "cell_type": "markdown",
   "id": "73716db2",
   "metadata": {},
   "source": [
    "```\n",
    "<tf.Tensor: shape=(2, 2), dtype=float32, numpy=\n",
    "array([[1.       , 1.4142135],\n",
    "       [      nan, 2.       ]], dtype=float32)>\n",
    "```"
   ]
  },
  {
   "cell_type": "code",
   "execution_count": null,
   "id": "052471d1",
   "metadata": {},
   "outputs": [],
   "source": [
    "a%3 #mod的运算符重载，等价于m = tf.math.mod(a,3)"
   ]
  },
  {
   "cell_type": "markdown",
   "id": "21a73c39",
   "metadata": {},
   "source": [
    "```\n",
    "<tf.Tensor: shape=(3,), dtype=int32, numpy=array([1, 2, 0], dtype=int32)>\n",
    "```"
   ]
  },
  {
   "cell_type": "code",
   "execution_count": null,
   "id": "dfc39aa2",
   "metadata": {},
   "outputs": [],
   "source": [
    "a//3  #地板除法"
   ]
  },
  {
   "cell_type": "markdown",
   "id": "feae50f8",
   "metadata": {},
   "source": [
    "```\n",
    "<tf.Tensor: shape=(2, 2), dtype=float32, numpy=\n",
    "array([[ 0.,  0.],\n",
    "       [-1.,  1.]], dtype=float32)>\n",
    "```"
   ]
  },
  {
   "cell_type": "code",
   "execution_count": null,
   "id": "21064dac",
   "metadata": {},
   "outputs": [],
   "source": [
    "(a>=2)"
   ]
  },
  {
   "cell_type": "markdown",
   "id": "df39ed53",
   "metadata": {},
   "source": [
    "```\n",
    "<tf.Tensor: shape=(2, 2), dtype=bool, numpy=\n",
    "array([[False,  True],\n",
    "       [False,  True]])>\n",
    "```"
   ]
  },
  {
   "cell_type": "code",
   "execution_count": null,
   "id": "6ec9f693",
   "metadata": {},
   "outputs": [],
   "source": [
    "(a>=2)&(a<=3)"
   ]
  },
  {
   "cell_type": "markdown",
   "id": "ce27376b",
   "metadata": {},
   "source": [
    "```\n",
    "<tf.Tensor: shape=(2, 2), dtype=bool, numpy=\n",
    "array([[False,  True],\n",
    "       [False, False]])>\n",
    "```"
   ]
  },
  {
   "cell_type": "code",
   "execution_count": null,
   "id": "96bdb6dd",
   "metadata": {},
   "outputs": [],
   "source": [
    "(a>=2)|(a<=3)"
   ]
  },
  {
   "cell_type": "markdown",
   "id": "d58fb873",
   "metadata": {},
   "source": [
    "```\n",
    "<tf.Tensor: shape=(2, 2), dtype=bool, numpy=\n",
    "array([[ True,  True],\n",
    "       [ True,  True]])>\n",
    "```"
   ]
  },
  {
   "cell_type": "code",
   "execution_count": null,
   "id": "ef9385d3",
   "metadata": {},
   "outputs": [],
   "source": [
    "a==5 #tf.equal(a,5)"
   ]
  },
  {
   "cell_type": "markdown",
   "id": "f17a47aa",
   "metadata": {},
   "source": [
    "```\n",
    "<tf.Tensor: shape=(3,), dtype=bool, numpy=array([False, False, False])>\n",
    "```"
   ]
  },
  {
   "cell_type": "code",
   "execution_count": null,
   "id": "810ecb30",
   "metadata": {},
   "outputs": [],
   "source": [
    "tf.sqrt(a)"
   ]
  },
  {
   "cell_type": "markdown",
   "id": "f51f0f48",
   "metadata": {},
   "source": [
    "```\n",
    "<tf.Tensor: shape=(2, 2), dtype=float32, numpy=\n",
    "array([[1.       , 1.4142135],\n",
    "       [      nan, 2.       ]], dtype=float32)>\n",
    "```"
   ]
  },
  {
   "cell_type": "code",
   "execution_count": null,
   "id": "63b7b5a8",
   "metadata": {},
   "outputs": [],
   "source": [
    "a = tf.constant([1.0,8.0])\n",
    "b = tf.constant([5.0,6.0])\n",
    "c = tf.constant([6.0,7.0])\n",
    "tf.add_n([a,b,c])"
   ]
  },
  {
   "cell_type": "markdown",
   "id": "7138083c",
   "metadata": {},
   "source": [
    "```\n",
    "<tf.Tensor: shape=(2,), dtype=float32, numpy=array([12., 21.], dtype=float32)>\n",
    "```"
   ]
  },
  {
   "cell_type": "code",
   "execution_count": null,
   "id": "e362f868",
   "metadata": {},
   "outputs": [],
   "source": [
    "tf.print(tf.maximum(a,b))"
   ]
  },
  {
   "cell_type": "markdown",
   "id": "70e5e0ef",
   "metadata": {},
   "source": [
    "```\n",
    "[5 8]\n",
    "```"
   ]
  },
  {
   "cell_type": "code",
   "execution_count": null,
   "id": "eafe63a9",
   "metadata": {},
   "outputs": [],
   "source": [
    "tf.print(tf.minimum(a,b))"
   ]
  },
  {
   "cell_type": "markdown",
   "id": "f2e10fd5",
   "metadata": {},
   "source": [
    "```\n",
    "[1 6]\n",
    "```"
   ]
  },
  {
   "cell_type": "code",
   "execution_count": null,
   "id": "aba8d471",
   "metadata": {},
   "outputs": [],
   "source": [
    "x = tf.constant([2.6,-2.7])\n",
    "\n",
    "tf.print(tf.math.round(x)) #保留整数部分，四舍五入\n",
    "tf.print(tf.math.floor(x)) #保留整数部分，向下归整\n",
    "tf.print(tf.math.ceil(x))  #保留整数部分，向上归整\n"
   ]
  },
  {
   "cell_type": "markdown",
   "id": "a3f4ac58",
   "metadata": {},
   "source": [
    "```\n",
    "[3 -3]\n",
    "[2 -3]\n",
    "[3 -2]\n",
    "```"
   ]
  },
  {
   "cell_type": "code",
   "execution_count": null,
   "id": "66b5f83c",
   "metadata": {},
   "outputs": [],
   "source": []
  },
  {
   "cell_type": "code",
   "execution_count": null,
   "id": "84c79998",
   "metadata": {},
   "outputs": [],
   "source": [
    "# 幅值裁剪\n",
    "x = tf.constant([0.9,-0.8,100.0,-20.0,0.7])\n",
    "y = tf.clip_by_value(x,clip_value_min=-1,clip_value_max=1)\n",
    "z = tf.clip_by_norm(x,clip_norm = 3)\n",
    "tf.print(y)\n",
    "tf.print(z)"
   ]
  },
  {
   "cell_type": "markdown",
   "id": "85303353",
   "metadata": {},
   "source": [
    "```\n",
    "[0.9 -0.8 1 -1 0.7]\n",
    "[0.0264732055 -0.0235317405 2.94146752 -0.588293493 0.0205902718]\n",
    "```"
   ]
  },
  {
   "cell_type": "code",
   "execution_count": null,
   "id": "174bea17",
   "metadata": {},
   "outputs": [],
   "source": []
  },
  {
   "cell_type": "code",
   "execution_count": null,
   "id": "7a7c5034",
   "metadata": {},
   "outputs": [],
   "source": []
  },
  {
   "cell_type": "markdown",
   "id": "d3669207",
   "metadata": {},
   "source": [
    "### 二，向量运算"
   ]
  },
  {
   "cell_type": "markdown",
   "id": "0f63d2ae",
   "metadata": {},
   "source": [
    "向量运算符只在一个特定轴上运算，将一个向量映射到一个标量或者另外一个向量。\n",
    "许多向量运算符都以reduce开头。"
   ]
  },
  {
   "cell_type": "code",
   "execution_count": null,
   "id": "07c22b49",
   "metadata": {},
   "outputs": [],
   "source": [
    "#向量reduce\n",
    "a = tf.range(1,10)\n",
    "tf.print(tf.reduce_sum(a))\n",
    "tf.print(tf.reduce_mean(a))\n",
    "tf.print(tf.reduce_max(a))\n",
    "tf.print(tf.reduce_min(a))\n",
    "tf.print(tf.reduce_prod(a))\n"
   ]
  },
  {
   "cell_type": "markdown",
   "id": "c1763cfd",
   "metadata": {},
   "source": [
    "```\n",
    "45\n",
    "5\n",
    "9\n",
    "1\n",
    "362880\n",
    "```"
   ]
  },
  {
   "cell_type": "code",
   "execution_count": null,
   "id": "782e76bf",
   "metadata": {},
   "outputs": [],
   "source": [
    "#张量指定维度进行reduce\n",
    "b = tf.reshape(a,(3,3))\n",
    "tf.print(tf.reduce_sum(b, axis=1, keepdims=True))\n",
    "tf.print(tf.reduce_sum(b, axis=0, keepdims=True))"
   ]
  },
  {
   "cell_type": "markdown",
   "id": "a384197c",
   "metadata": {},
   "source": [
    "```\n",
    "[[6]\n",
    " [15]\n",
    " [24]]\n",
    "[[12 15 18]]\n",
    "```"
   ]
  },
  {
   "cell_type": "code",
   "execution_count": null,
   "id": "c2af56b2",
   "metadata": {},
   "outputs": [],
   "source": [
    "#bool类型的reduce\n",
    "p = tf.constant([True,False,False])\n",
    "q = tf.constant([False,False,True])\n",
    "tf.print(tf.reduce_all(p))\n",
    "tf.print(tf.reduce_any(q))"
   ]
  },
  {
   "cell_type": "markdown",
   "id": "d9ce6b74",
   "metadata": {},
   "source": [
    "```\n",
    "0\n",
    "1\n",
    "```"
   ]
  },
  {
   "cell_type": "code",
   "execution_count": null,
   "id": "a01f53cf",
   "metadata": {},
   "outputs": [],
   "source": [
    "#利用tf.foldr实现tf.reduce_sum\n",
    "s = tf.foldr(lambda a,b:a+b,tf.range(10)) \n",
    "tf.print(s)"
   ]
  },
  {
   "cell_type": "markdown",
   "id": "7b1a6648",
   "metadata": {},
   "source": [
    "```\n",
    "45\n",
    "```"
   ]
  },
  {
   "cell_type": "code",
   "execution_count": null,
   "id": "bb023744",
   "metadata": {},
   "outputs": [],
   "source": [
    "#cum扫描累积\n",
    "a = tf.range(1,10)\n",
    "tf.print(tf.math.cumsum(a))\n",
    "tf.print(tf.math.cumprod(a))"
   ]
  },
  {
   "cell_type": "markdown",
   "id": "41db5865",
   "metadata": {},
   "source": [
    "```\n",
    "[1 3 6 ... 28 36 45]\n",
    "[1 2 6 ... 5040 40320 362880]\n",
    "```"
   ]
  },
  {
   "cell_type": "code",
   "execution_count": null,
   "id": "3fb3575d",
   "metadata": {},
   "outputs": [],
   "source": [
    "#arg最大最小值索引\n",
    "a = tf.range(1,10)\n",
    "tf.print(tf.argmax(a))\n",
    "tf.print(tf.argmin(a))"
   ]
  },
  {
   "cell_type": "markdown",
   "id": "55078fb4",
   "metadata": {},
   "source": [
    "```\n",
    "8\n",
    "0\n",
    "```"
   ]
  },
  {
   "cell_type": "code",
   "execution_count": null,
   "id": "2b78aa31",
   "metadata": {},
   "outputs": [],
   "source": [
    "#tf.math.top_k可以用于对张量排序\n",
    "a = tf.constant([1,3,7,5,4,8])\n",
    "\n",
    "values,indices = tf.math.top_k(a,3,sorted=True)\n",
    "tf.print(values)\n",
    "tf.print(indices)\n",
    "\n",
    "#利用tf.math.top_k可以在TensorFlow中实现KNN算法"
   ]
  },
  {
   "cell_type": "markdown",
   "id": "a0bec613",
   "metadata": {},
   "source": [
    "```\n",
    "[8 7 5]\n",
    "[5 2 3]\n",
    "```"
   ]
  },
  {
   "cell_type": "code",
   "execution_count": null,
   "id": "515887fe",
   "metadata": {},
   "outputs": [],
   "source": []
  },
  {
   "cell_type": "code",
   "execution_count": null,
   "id": "1401d198",
   "metadata": {},
   "outputs": [],
   "source": []
  },
  {
   "cell_type": "markdown",
   "id": "86ba5254",
   "metadata": {},
   "source": [
    "### 三，矩阵运算"
   ]
  },
  {
   "cell_type": "markdown",
   "id": "229956db",
   "metadata": {},
   "source": [
    "矩阵必须是二维的。类似tf.constant([1,2,3])这样的不是矩阵。\n",
    "\n",
    "矩阵运算包括：矩阵乘法，矩阵转置，矩阵逆，矩阵求迹，矩阵范数，矩阵行列式，矩阵求特征值，矩阵分解等运算。\n",
    "\n",
    "除了一些常用的运算外，大部分和矩阵有关的运算都在tf.linalg子包中。"
   ]
  },
  {
   "cell_type": "code",
   "execution_count": null,
   "id": "9a713b81",
   "metadata": {},
   "outputs": [],
   "source": [
    "#矩阵乘法\n",
    "a = tf.constant([[1,2],[3,4]])\n",
    "b = tf.constant([[2,0],[0,2]])\n",
    "a@b  #等价于tf.matmul(a,b)"
   ]
  },
  {
   "cell_type": "markdown",
   "id": "0f085d1e",
   "metadata": {},
   "source": [
    "```\n",
    "<tf.Tensor: shape=(2, 2), dtype=int32, numpy=\n",
    "array([[2, 4],\n",
    "       [6, 8]], dtype=int32)>\n",
    "```"
   ]
  },
  {
   "cell_type": "code",
   "execution_count": null,
   "id": "5724c8b0",
   "metadata": {},
   "outputs": [],
   "source": [
    "#矩阵转置\n",
    "a = tf.constant([[1,2],[3,4]])\n",
    "tf.transpose(a)"
   ]
  },
  {
   "cell_type": "markdown",
   "id": "49147f65",
   "metadata": {},
   "source": [
    "```\n",
    "<tf.Tensor: shape=(2, 2), dtype=int32, numpy=\n",
    "array([[1, 3],\n",
    "       [2, 4]], dtype=int32)>\n",
    "```"
   ]
  },
  {
   "cell_type": "code",
   "execution_count": null,
   "id": "f5420889",
   "metadata": {},
   "outputs": [],
   "source": [
    "#矩阵逆，必须为tf.float32或tf.double类型\n",
    "a = tf.constant([[1.0,2],[3,4]],dtype = tf.float32)\n",
    "tf.linalg.inv(a)"
   ]
  },
  {
   "cell_type": "markdown",
   "id": "bdfe64ef",
   "metadata": {},
   "source": [
    "```\n",
    "<tf.Tensor: shape=(2, 2), dtype=float32, numpy=\n",
    "array([[-2.0000002 ,  1.0000001 ],\n",
    "       [ 1.5000001 , -0.50000006]], dtype=float32)>\n",
    "```"
   ]
  },
  {
   "cell_type": "code",
   "execution_count": null,
   "id": "7e411f5f",
   "metadata": {},
   "outputs": [],
   "source": [
    "#矩阵求trace\n",
    "a = tf.constant([[1.0,2],[3,4]],dtype = tf.float32)\n",
    "tf.linalg.trace(a)"
   ]
  },
  {
   "cell_type": "markdown",
   "id": "d72420d0",
   "metadata": {},
   "source": [
    "```\n",
    "<tf.Tensor: shape=(), dtype=float32, numpy=5.0>\n",
    "```"
   ]
  },
  {
   "cell_type": "code",
   "execution_count": null,
   "id": "6d6c2a3e",
   "metadata": {},
   "outputs": [],
   "source": [
    "#矩阵求范数\n",
    "a = tf.constant([[1.0,2],[3,4]])\n",
    "tf.linalg.norm(a)"
   ]
  },
  {
   "cell_type": "markdown",
   "id": "d9da854e",
   "metadata": {},
   "source": [
    "```\n",
    "<tf.Tensor: shape=(), dtype=float32, numpy=5.477226>\n",
    "```"
   ]
  },
  {
   "cell_type": "code",
   "execution_count": null,
   "id": "da75f27d",
   "metadata": {},
   "outputs": [],
   "source": [
    "#矩阵行列式\n",
    "a = tf.constant([[1.0,2],[3,4]])\n",
    "tf.linalg.det(a)"
   ]
  },
  {
   "cell_type": "markdown",
   "id": "6c149d44",
   "metadata": {},
   "source": [
    "```\n",
    "<tf.Tensor: shape=(), dtype=float32, numpy=-2.0>\n",
    "```"
   ]
  },
  {
   "cell_type": "code",
   "execution_count": null,
   "id": "bbd7ef7f",
   "metadata": {},
   "outputs": [],
   "source": [
    "#矩阵特征值\n",
    "a = tf.constant([[1.0,2],[-5,4]])\n",
    "tf.linalg.eigvals(a)"
   ]
  },
  {
   "cell_type": "markdown",
   "id": "3c736a0e",
   "metadata": {},
   "source": [
    "```\n",
    "<tf.Tensor: shape=(2,), dtype=complex64, numpy=array([2.4999995+2.7838817j, 2.5      -2.783882j ], dtype=complex64)>\n",
    "```"
   ]
  },
  {
   "cell_type": "code",
   "execution_count": null,
   "id": "6c06a09c",
   "metadata": {},
   "outputs": [],
   "source": [
    "#矩阵QR分解, 将一个方阵分解为一个正交矩阵q和上三角矩阵r\n",
    "#QR分解实际上是对矩阵a实施Schmidt正交化得到q\n",
    "\n",
    "a = tf.constant([[1.0,2.0],[3.0,4.0]],dtype = tf.float32)\n",
    "q,r = tf.linalg.qr(a)\n",
    "tf.print(q)\n",
    "tf.print(r)\n",
    "tf.print(q@r)"
   ]
  },
  {
   "cell_type": "markdown",
   "id": "b6a5d4f1",
   "metadata": {},
   "source": [
    "```\n",
    "[[-0.316227794 -0.948683321]\n",
    " [-0.948683321 0.316227734]]\n",
    "[[-3.1622777 -4.4271884]\n",
    " [0 -0.632455349]]\n",
    "[[1.00000012 1.99999976]\n",
    " [3 4]]\n",
    "```"
   ]
  },
  {
   "cell_type": "code",
   "execution_count": null,
   "id": "4911ec74",
   "metadata": {},
   "outputs": [],
   "source": [
    "#矩阵svd分解\n",
    "#svd分解可以将任意一个矩阵分解为一个正交矩阵u,一个对角阵s和一个正交矩阵v.t()的乘积\n",
    "#svd常用于矩阵压缩和降维\n",
    "\n",
    "a  = tf.constant([[1.0,2.0],[3.0,4.0],[5.0,6.0]], dtype = tf.float32)\n",
    "s,u,v = tf.linalg.svd(a)\n",
    "tf.print(u,\"\\n\")\n",
    "tf.print(s,\"\\n\")\n",
    "tf.print(v,\"\\n\")\n",
    "tf.print(u@tf.linalg.diag(s)@tf.transpose(v))\n",
    "\n",
    "#利用svd分解可以在TensorFlow中实现主成分分析降维\n"
   ]
  },
  {
   "cell_type": "markdown",
   "id": "e9ac9f2c",
   "metadata": {},
   "source": [
    "```\n",
    "[[0.229847744 -0.88346082]\n",
    " [0.524744868 -0.240782902]\n",
    " [0.819642067 0.401896209]] \n",
    "\n",
    "[9.52551842 0.51429987] \n",
    "\n",
    "[[0.619629562 0.784894466]\n",
    " [0.784894466 -0.619629562]] \n",
    "\n",
    "[[1.00000119 2]\n",
    " [3.00000095 4.00000048]\n",
    " [5.00000143 6.00000095]]\n",
    "```"
   ]
  },
  {
   "cell_type": "code",
   "execution_count": null,
   "id": "7cc3e6bb",
   "metadata": {},
   "outputs": [],
   "source": []
  },
  {
   "cell_type": "code",
   "execution_count": null,
   "id": "f9fa0ab0",
   "metadata": {},
   "outputs": [],
   "source": []
  },
  {
   "cell_type": "markdown",
   "id": "f18dc0d0",
   "metadata": {},
   "source": [
    "### 四，广播机制"
   ]
  },
  {
   "cell_type": "markdown",
   "id": "330d45bf",
   "metadata": {},
   "source": [
    "TensorFlow的广播规则和numpy是一样的:\n",
    "\n",
    "* 1、如果张量的维度不同，将维度较小的张量进行扩展，直到两个张量的维度都一样。\n",
    "* 2、如果两个张量在某个维度上的长度是相同的，或者其中一个张量在该维度上的长度为1，那么我们就说这两个张量在该维度上是相容的。\n",
    "* 3、如果两个张量在所有维度上都是相容的，它们就能使用广播。\n",
    "* 4、广播之后，每个维度的长度将取两个张量在该维度长度的较大值。\n",
    "* 5、在任何一个维度上，如果一个张量的长度为1，另一个张量长度大于1，那么在该维度上，就好像是对第一个张量进行了复制。\n",
    "\n",
    "tf.broadcast_to 以显式的方式按照广播机制扩展张量的维度。"
   ]
  },
  {
   "cell_type": "code",
   "execution_count": null,
   "id": "7d318b42",
   "metadata": {},
   "outputs": [],
   "source": [
    "a = tf.constant([1,2,3])\n",
    "b = tf.constant([[0,0,0],[1,1,1],[2,2,2]])\n",
    "b + a  #等价于 b + tf.broadcast_to(a,b.shape)"
   ]
  },
  {
   "cell_type": "markdown",
   "id": "f7a3a558",
   "metadata": {},
   "source": [
    "```\n",
    "<tf.Tensor: shape=(3, 3), dtype=int32, numpy=\n",
    "array([[1, 2, 3],\n",
    "       [2, 3, 4],\n",
    "       [3, 4, 5]], dtype=int32)>\n",
    "```"
   ]
  },
  {
   "cell_type": "code",
   "execution_count": null,
   "id": "1f4b7df9",
   "metadata": {},
   "outputs": [],
   "source": [
    "tf.broadcast_to(a,b.shape)"
   ]
  },
  {
   "cell_type": "markdown",
   "id": "83a4add6",
   "metadata": {},
   "source": [
    "```\n",
    "<tf.Tensor: shape=(3, 3), dtype=int32, numpy=\n",
    "array([[1, 2, 3],\n",
    "       [1, 2, 3],\n",
    "       [1, 2, 3]], dtype=int32)>\n",
    "```"
   ]
  },
  {
   "cell_type": "code",
   "execution_count": null,
   "id": "8b1b9d11",
   "metadata": {},
   "outputs": [],
   "source": [
    "#计算广播后计算结果的形状，静态形状，TensorShape类型参数\n",
    "tf.broadcast_static_shape(a.shape,b.shape)"
   ]
  },
  {
   "cell_type": "markdown",
   "id": "2e277b4d",
   "metadata": {},
   "source": [
    "```\n",
    "TensorShape([3, 3])\n",
    "```"
   ]
  },
  {
   "cell_type": "code",
   "execution_count": null,
   "id": "f6f67e4d",
   "metadata": {},
   "outputs": [],
   "source": [
    "#计算广播后计算结果的形状，动态形状，Tensor类型参数\n",
    "c = tf.constant([1,2,3])\n",
    "d = tf.constant([[1],[2],[3]])\n",
    "tf.broadcast_dynamic_shape(tf.shape(c),tf.shape(d))"
   ]
  },
  {
   "cell_type": "markdown",
   "id": "b24fe618",
   "metadata": {},
   "source": [
    "```\n",
    "<tf.Tensor: shape=(2,), dtype=int32, numpy=array([3, 3], dtype=int32)>\n",
    "```"
   ]
  },
  {
   "cell_type": "code",
   "execution_count": null,
   "id": "7022bc70",
   "metadata": {},
   "outputs": [],
   "source": [
    "#广播效果\n",
    "c+d #等价于 tf.broadcast_to(c,[3,3]) + tf.broadcast_to(d,[3,3])"
   ]
  },
  {
   "cell_type": "markdown",
   "id": "e38c3575",
   "metadata": {},
   "source": [
    "```\n",
    "<tf.Tensor: shape=(3, 3), dtype=int32, numpy=\n",
    "array([[2, 3, 4],\n",
    "       [3, 4, 5],\n",
    "       [4, 5, 6]], dtype=int32)>\n",
    "```"
   ]
  },
  {
   "cell_type": "code",
   "execution_count": null,
   "id": "27b6157a",
   "metadata": {},
   "outputs": [],
   "source": []
  },
  {
   "cell_type": "markdown",
   "id": "b1c74794",
   "metadata": {},
   "source": [
    "如果对本书内容理解上有需要进一步和作者交流的地方，欢迎在公众号\"算法美食屋\"下留言。作者时间和精力有限，会酌情予以回复。\n",
    "\n",
    "也可以在公众号后台回复关键字：**加群**，加入读者交流群和大家讨论。\n",
    "\n",
    "![算法美食屋二维码.jpg](./data/算法美食屋二维码.jpg)"
   ]
  },
  {
   "cell_type": "code",
   "execution_count": null,
   "id": "9d646543",
   "metadata": {},
   "outputs": [],
   "source": []
  }
 ],
 "metadata": {
  "jupytext": {
   "cell_metadata_filter": "-all",
   "main_language": "python",
   "notebook_metadata_filter": "-all"
  }
 },
 "nbformat": 4,
 "nbformat_minor": 5
}
