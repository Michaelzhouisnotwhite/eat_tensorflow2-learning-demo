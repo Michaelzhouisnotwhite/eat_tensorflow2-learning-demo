{
 "cells": [
  {
   "cell_type": "markdown",
   "id": "6efe838d",
   "metadata": {},
   "source": [
    "# 1-4,时间序列数据建模流程范例"
   ]
  },
  {
   "cell_type": "markdown",
   "id": "e484277d",
   "metadata": {},
   "source": [
    "国内的新冠肺炎疫情从发现至今已经持续3个多月了，这场起源于吃野味的灾难给大家的生活造成了诸多方面的影响。\n",
    "\n",
    "有的同学是收入上的，有的同学是感情上的，有的同学是心理上的，还有的同学是体重上的。\n",
    "\n",
    "那么国内的新冠肺炎疫情何时结束呢？什么时候我们才可以重获自由呢？\n",
    "\n",
    "本篇文章将利用TensorFlow2.0建立时间序列RNN模型，对国内的新冠肺炎疫情结束时间进行预测。"
   ]
  },
  {
   "cell_type": "markdown",
   "id": "acfbba8d",
   "metadata": {},
   "source": [
    "![](./data/疫情前后对比.png)"
   ]
  },
  {
   "cell_type": "markdown",
   "id": "35378a95",
   "metadata": {},
   "source": [
    "### 一，准备数据"
   ]
  },
  {
   "cell_type": "markdown",
   "id": "871d1a3c",
   "metadata": {},
   "source": [
    "\n",
    "\n",
    "本文的数据集取自tushare，数据集在本项目的 data目录下。\n",
    "\n",
    "![](./data/1-4-新增人数.png)\n"
   ]
  },
  {
   "cell_type": "code",
   "execution_count": null,
   "id": "f719bbb1",
   "metadata": {},
   "outputs": [],
   "source": [
    "import numpy as np\n",
    "import pandas as pd \n",
    "import matplotlib.pyplot as plt\n",
    "import tensorflow as tf \n",
    "from tensorflow.keras import models,layers,losses,metrics,callbacks \n"
   ]
  },
  {
   "cell_type": "code",
   "execution_count": null,
   "id": "3c825a15",
   "metadata": {},
   "outputs": [],
   "source": [
    "%matplotlib inline\n",
    "%config InlineBackend.figure_format = 'svg'\n",
    "\n",
    "df = pd.read_csv(\"./data/covid-19.csv\",sep = \"\\t\")\n",
    "df.plot(x = \"date\",y = [\"confirmed_num\",\"cured_num\",\"dead_num\"],figsize=(10,6))\n",
    "plt.xticks(rotation=60)\n"
   ]
  },
  {
   "cell_type": "markdown",
   "id": "fc5eadcb",
   "metadata": {},
   "source": [
    "![](./data/1-4-累积曲线.png)"
   ]
  },
  {
   "cell_type": "code",
   "execution_count": null,
   "id": "fda1f971",
   "metadata": {},
   "outputs": [],
   "source": [
    "dfdata = df.set_index(\"date\")\n",
    "dfdiff = dfdata.diff(periods=1).dropna()\n",
    "dfdiff = dfdiff.reset_index(\"date\")\n",
    "\n",
    "dfdiff.plot(x = \"date\",y = [\"confirmed_num\",\"cured_num\",\"dead_num\"],figsize=(10,6))\n",
    "plt.xticks(rotation=60)\n",
    "dfdiff = dfdiff.drop(\"date\",axis = 1).astype(\"float32\")\n"
   ]
  },
  {
   "cell_type": "markdown",
   "id": "1cc2499f",
   "metadata": {},
   "source": [
    "![](./data/1-4-新增曲线.png)"
   ]
  },
  {
   "cell_type": "code",
   "execution_count": null,
   "id": "3debfd69",
   "metadata": {},
   "outputs": [],
   "source": [
    "#用某日前8天窗口数据作为输入预测该日数据\n",
    "WINDOW_SIZE = 8\n",
    "\n",
    "def batch_dataset(dataset):\n",
    "    dataset_batched = dataset.batch(WINDOW_SIZE,drop_remainder=True)\n",
    "    return dataset_batched\n",
    "\n",
    "ds_data = tf.data.Dataset.from_tensor_slices(tf.constant(dfdiff.values,dtype = tf.float32)) \\\n",
    "   .window(WINDOW_SIZE,shift=1).flat_map(batch_dataset)\n",
    "\n",
    "ds_label = tf.data.Dataset.from_tensor_slices(\n",
    "    tf.constant(dfdiff.values[WINDOW_SIZE:],dtype = tf.float32))\n",
    "\n",
    "#数据较小，可以将全部训练数据放入到一个batch中，提升性能\n",
    "ds_train = tf.data.Dataset.zip((ds_data,ds_label)).batch(38).cache()\n",
    "\n"
   ]
  },
  {
   "cell_type": "markdown",
   "id": "db802024",
   "metadata": {},
   "source": [
    "### 二，定义模型"
   ]
  },
  {
   "cell_type": "markdown",
   "id": "6190c3d0",
   "metadata": {},
   "source": [
    "使用Keras接口有以下3种方式构建模型：使用Sequential按层顺序构建模型，使用函数式API构建任意结构模型，继承Model基类构建自定义模型。\n",
    "\n",
    "此处选择使用函数式API构建任意结构模型。"
   ]
  },
  {
   "cell_type": "code",
   "execution_count": null,
   "id": "ab89aacb",
   "metadata": {},
   "outputs": [],
   "source": [
    "#考虑到新增确诊，新增治愈，新增死亡人数数据不可能小于0，设计如下结构\n",
    "class Block(layers.Layer):\n",
    "    def __init__(self, **kwargs):\n",
    "        super(Block, self).__init__(**kwargs)\n",
    "    \n",
    "    def call(self, x_input,x):\n",
    "        x_out = tf.maximum((1+x)*x_input[:,-1,:],0.0)\n",
    "        return x_out\n",
    "    \n",
    "    def get_config(self):  \n",
    "        config = super(Block, self).get_config()\n",
    "        return config\n"
   ]
  },
  {
   "cell_type": "code",
   "execution_count": null,
   "id": "fc51b7c5",
   "metadata": {},
   "outputs": [],
   "source": [
    "tf.keras.backend.clear_session()\n",
    "x_input = layers.Input(shape = (None,3),dtype = tf.float32)\n",
    "x = layers.LSTM(3,return_sequences = True,input_shape=(None,3))(x_input)\n",
    "x = layers.LSTM(3,return_sequences = True,input_shape=(None,3))(x)\n",
    "x = layers.LSTM(3,return_sequences = True,input_shape=(None,3))(x)\n",
    "x = layers.LSTM(3,input_shape=(None,3))(x)\n",
    "x = layers.Dense(3)(x)\n",
    "\n",
    "#考虑到新增确诊，新增治愈，新增死亡人数数据不可能小于0，设计如下结构\n",
    "#x = tf.maximum((1+x)*x_input[:,-1,:],0.0)\n",
    "x = Block()(x_input,x)\n",
    "model = models.Model(inputs = [x_input],outputs = [x])\n",
    "model.summary()\n"
   ]
  },
  {
   "cell_type": "code",
   "execution_count": null,
   "id": "967cb3b6",
   "metadata": {},
   "outputs": [],
   "source": []
  },
  {
   "cell_type": "markdown",
   "id": "22d5fff6",
   "metadata": {},
   "source": [
    "```\n",
    "Model: \"model\"\n",
    "_________________________________________________________________\n",
    "Layer (type)                 Output Shape              Param #   \n",
    "=================================================================\n",
    "input_1 (InputLayer)         [(None, None, 3)]         0         \n",
    "_________________________________________________________________\n",
    "lstm (LSTM)                  (None, None, 3)           84        \n",
    "_________________________________________________________________\n",
    "lstm_1 (LSTM)                (None, None, 3)           84        \n",
    "_________________________________________________________________\n",
    "lstm_2 (LSTM)                (None, None, 3)           84        \n",
    "_________________________________________________________________\n",
    "lstm_3 (LSTM)                (None, 3)                 84        \n",
    "_________________________________________________________________\n",
    "dense (Dense)                (None, 3)                 12        \n",
    "_________________________________________________________________\n",
    "block (Block)                (None, 3)                 0         \n",
    "=================================================================\n",
    "Total params: 348\n",
    "Trainable params: 348\n",
    "Non-trainable params: 0\n",
    "_________________________________________________________________\n",
    "```"
   ]
  },
  {
   "cell_type": "markdown",
   "id": "457d3bf1",
   "metadata": {},
   "source": [
    "### 三，训练模型"
   ]
  },
  {
   "cell_type": "markdown",
   "id": "82770361",
   "metadata": {},
   "source": [
    "训练模型通常有3种方法，内置fit方法，内置train_on_batch方法，以及自定义训练循环。此处我们选择最常用也最简单的内置fit方法。\n",
    "\n",
    "注：循环神经网络调试较为困难，需要设置多个不同的学习率多次尝试，以取得较好的效果。"
   ]
  },
  {
   "cell_type": "code",
   "execution_count": null,
   "id": "e7896232",
   "metadata": {},
   "outputs": [],
   "source": [
    "#自定义损失函数，考虑平方差和预测目标的比值\n",
    "class MSPE(losses.Loss):\n",
    "    def call(self,y_true,y_pred):\n",
    "        err_percent = (y_true - y_pred)**2/(tf.maximum(y_true**2,1e-7))\n",
    "        mean_err_percent = tf.reduce_mean(err_percent)\n",
    "        return mean_err_percent\n",
    "    \n",
    "    def get_config(self):\n",
    "        config = super(MSPE, self).get_config()\n",
    "        return config\n"
   ]
  },
  {
   "cell_type": "code",
   "execution_count": null,
   "id": "9e448187",
   "metadata": {},
   "outputs": [],
   "source": [
    "import os\n",
    "import datetime\n",
    "\n",
    "optimizer = tf.keras.optimizers.Adam(learning_rate=0.01)\n",
    "model.compile(optimizer=optimizer,loss=MSPE(name = \"MSPE\"))\n",
    "\n",
    "stamp = datetime.datetime.now().strftime(\"%Y%m%d-%H%M%S\")\n",
    "logdir = os.path.join('data', 'autograph', stamp)\n",
    "\n",
    "## 在 Python3 下建议使用 pathlib 修正各操作系统的路径\n",
    "# from pathlib import Path\n",
    "# stamp = datetime.datetime.now().strftime(\"%Y%m%d-%H%M%S\")\n",
    "# logdir = str(Path('./data/autograph/' + stamp))\n",
    "\n",
    "tb_callback = tf.keras.callbacks.TensorBoard(logdir, histogram_freq=1)\n",
    "#如果loss在100个epoch后没有提升，学习率减半。\n",
    "lr_callback = tf.keras.callbacks.ReduceLROnPlateau(monitor=\"loss\",factor = 0.5, patience = 100)\n",
    "#当loss在200个epoch后没有提升，则提前终止训练。\n",
    "stop_callback = tf.keras.callbacks.EarlyStopping(monitor = \"loss\", patience= 200)\n",
    "callbacks_list = [tb_callback,lr_callback,stop_callback]\n",
    "\n",
    "history = model.fit(ds_train,epochs=500,callbacks = callbacks_list)\n"
   ]
  },
  {
   "cell_type": "markdown",
   "id": "59ace0c1",
   "metadata": {},
   "source": [
    "```\n",
    "Epoch 371/500\n",
    "1/1 [==============================] - 0s 61ms/step - loss: 0.1184\n",
    "Epoch 372/500\n",
    "1/1 [==============================] - 0s 64ms/step - loss: 0.1177\n",
    "Epoch 373/500\n",
    "1/1 [==============================] - 0s 56ms/step - loss: 0.1169\n",
    "Epoch 374/500\n",
    "1/1 [==============================] - 0s 50ms/step - loss: 0.1161\n",
    "Epoch 375/500\n",
    "1/1 [==============================] - 0s 55ms/step - loss: 0.1154\n",
    "Epoch 376/500\n",
    "1/1 [==============================] - 0s 55ms/step - loss: 0.1147\n",
    "Epoch 377/500\n",
    "1/1 [==============================] - 0s 62ms/step - loss: 0.1140\n",
    "Epoch 378/500\n",
    "1/1 [==============================] - 0s 93ms/step - loss: 0.1133\n",
    "Epoch 379/500\n",
    "1/1 [==============================] - 0s 85ms/step - loss: 0.1126\n",
    "Epoch 380/500\n",
    "1/1 [==============================] - 0s 68ms/step - loss: 0.1119\n",
    "Epoch 381/500\n",
    "1/1 [==============================] - 0s 52ms/step - loss: 0.1113\n",
    "Epoch 382/500\n",
    "1/1 [==============================] - 0s 54ms/step - loss: 0.1107\n",
    "Epoch 383/500\n",
    "1/1 [==============================] - 0s 55ms/step - loss: 0.1100\n",
    "Epoch 384/500\n",
    "1/1 [==============================] - 0s 56ms/step - loss: 0.1094\n",
    "Epoch 385/500\n",
    "1/1 [==============================] - 0s 54ms/step - loss: 0.1088\n",
    "Epoch 386/500\n",
    "1/1 [==============================] - 0s 74ms/step - loss: 0.1082\n",
    "Epoch 387/500\n",
    "1/1 [==============================] - 0s 60ms/step - loss: 0.1077\n",
    "Epoch 388/500\n",
    "1/1 [==============================] - 0s 52ms/step - loss: 0.1071\n",
    "Epoch 389/500\n",
    "1/1 [==============================] - 0s 52ms/step - loss: 0.1066\n",
    "Epoch 390/500\n",
    "1/1 [==============================] - 0s 56ms/step - loss: 0.1060\n",
    "Epoch 391/500\n",
    "1/1 [==============================] - 0s 61ms/step - loss: 0.1055\n",
    "Epoch 392/500\n",
    "1/1 [==============================] - 0s 60ms/step - loss: 0.1050\n",
    "Epoch 393/500\n",
    "1/1 [==============================] - 0s 59ms/step - loss: 0.1045\n",
    "Epoch 394/500\n",
    "1/1 [==============================] - 0s 65ms/step - loss: 0.1040\n",
    "Epoch 395/500\n",
    "1/1 [==============================] - 0s 58ms/step - loss: 0.1035\n",
    "Epoch 396/500\n",
    "1/1 [==============================] - 0s 52ms/step - loss: 0.1031\n",
    "Epoch 397/500\n",
    "1/1 [==============================] - 0s 58ms/step - loss: 0.1026\n",
    "Epoch 398/500\n",
    "1/1 [==============================] - 0s 60ms/step - loss: 0.1022\n",
    "Epoch 399/500\n",
    "1/1 [==============================] - 0s 57ms/step - loss: 0.1017\n",
    "Epoch 400/500\n",
    "1/1 [==============================] - 0s 63ms/step - loss: 0.1013\n",
    "Epoch 401/500\n",
    "1/1 [==============================] - 0s 59ms/step - loss: 0.1009\n",
    "Epoch 402/500\n",
    "1/1 [==============================] - 0s 53ms/step - loss: 0.1005\n",
    "Epoch 403/500\n",
    "1/1 [==============================] - 0s 56ms/step - loss: 0.1001\n",
    "Epoch 404/500\n",
    "1/1 [==============================] - 0s 55ms/step - loss: 0.0997\n",
    "Epoch 405/500\n",
    "1/1 [==============================] - 0s 58ms/step - loss: 0.0993\n",
    "Epoch 406/500\n",
    "1/1 [==============================] - 0s 53ms/step - loss: 0.0990\n",
    "Epoch 407/500\n",
    "1/1 [==============================] - 0s 59ms/step - loss: 0.0986\n",
    "Epoch 408/500\n",
    "1/1 [==============================] - 0s 63ms/step - loss: 0.0982\n",
    "Epoch 409/500\n",
    "1/1 [==============================] - 0s 67ms/step - loss: 0.0979\n",
    "Epoch 410/500\n",
    "1/1 [==============================] - 0s 55ms/step - loss: 0.0976\n",
    "Epoch 411/500\n",
    "1/1 [==============================] - 0s 54ms/step - loss: 0.0972\n",
    "Epoch 412/500\n",
    "1/1 [==============================] - 0s 55ms/step - loss: 0.0969\n",
    "Epoch 413/500\n",
    "1/1 [==============================] - 0s 55ms/step - loss: 0.0966\n",
    "Epoch 414/500\n",
    "1/1 [==============================] - 0s 59ms/step - loss: 0.0963\n",
    "Epoch 415/500\n",
    "1/1 [==============================] - 0s 60ms/step - loss: 0.0960\n",
    "Epoch 416/500\n",
    "1/1 [==============================] - 0s 62ms/step - loss: 0.0957\n",
    "Epoch 417/500\n",
    "1/1 [==============================] - 0s 69ms/step - loss: 0.0954\n",
    "Epoch 418/500\n",
    "1/1 [==============================] - 0s 60ms/step - loss: 0.0951\n",
    "Epoch 419/500\n",
    "1/1 [==============================] - 0s 50ms/step - loss: 0.0948\n",
    "Epoch 420/500\n",
    "1/1 [==============================] - 0s 56ms/step - loss: 0.0946\n",
    "Epoch 421/500\n",
    "1/1 [==============================] - 0s 57ms/step - loss: 0.0943\n",
    "Epoch 422/500\n",
    "1/1 [==============================] - 0s 55ms/step - loss: 0.0941\n",
    "Epoch 423/500\n",
    "1/1 [==============================] - 0s 62ms/step - loss: 0.0938\n",
    "Epoch 424/500\n",
    "1/1 [==============================] - 0s 60ms/step - loss: 0.0936\n",
    "Epoch 425/500\n",
    "1/1 [==============================] - 0s 100ms/step - loss: 0.0933\n",
    "Epoch 426/500\n",
    "1/1 [==============================] - 0s 68ms/step - loss: 0.0931\n",
    "Epoch 427/500\n",
    "1/1 [==============================] - 0s 60ms/step - loss: 0.0929\n",
    "Epoch 428/500\n",
    "1/1 [==============================] - 0s 50ms/step - loss: 0.0926\n",
    "Epoch 429/500\n",
    "1/1 [==============================] - 0s 55ms/step - loss: 0.0924\n",
    "Epoch 430/500\n",
    "1/1 [==============================] - 0s 57ms/step - loss: 0.0922\n",
    "Epoch 431/500\n",
    "1/1 [==============================] - 0s 75ms/step - loss: 0.0920\n",
    "Epoch 432/500\n",
    "1/1 [==============================] - 0s 57ms/step - loss: 0.0918\n",
    "Epoch 433/500\n",
    "1/1 [==============================] - 0s 77ms/step - loss: 0.0916\n",
    "Epoch 434/500\n",
    "1/1 [==============================] - 0s 50ms/step - loss: 0.0914\n",
    "Epoch 435/500\n",
    "1/1 [==============================] - 0s 56ms/step - loss: 0.0912\n",
    "Epoch 436/500\n",
    "1/1 [==============================] - 0s 60ms/step - loss: 0.0911\n",
    "Epoch 437/500\n",
    "1/1 [==============================] - 0s 55ms/step - loss: 0.0909\n",
    "Epoch 438/500\n",
    "1/1 [==============================] - 0s 57ms/step - loss: 0.0907\n",
    "Epoch 439/500\n",
    "1/1 [==============================] - 0s 59ms/step - loss: 0.0905\n",
    "Epoch 440/500\n",
    "1/1 [==============================] - 0s 60ms/step - loss: 0.0904\n",
    "Epoch 441/500\n",
    "1/1 [==============================] - 0s 68ms/step - loss: 0.0902\n",
    "Epoch 442/500\n",
    "1/1 [==============================] - 0s 73ms/step - loss: 0.0901\n",
    "Epoch 443/500\n",
    "1/1 [==============================] - 0s 50ms/step - loss: 0.0899\n",
    "Epoch 444/500\n",
    "1/1 [==============================] - 0s 58ms/step - loss: 0.0898\n",
    "Epoch 445/500\n",
    "1/1 [==============================] - 0s 56ms/step - loss: 0.0896\n",
    "Epoch 446/500\n",
    "1/1 [==============================] - 0s 52ms/step - loss: 0.0895\n",
    "Epoch 447/500\n",
    "1/1 [==============================] - 0s 60ms/step - loss: 0.0893\n",
    "Epoch 448/500\n",
    "1/1 [==============================] - 0s 64ms/step - loss: 0.0892\n",
    "Epoch 449/500\n",
    "1/1 [==============================] - 0s 70ms/step - loss: 0.0891\n",
    "Epoch 450/500\n",
    "1/1 [==============================] - 0s 57ms/step - loss: 0.0889\n",
    "Epoch 451/500\n",
    "1/1 [==============================] - 0s 53ms/step - loss: 0.0888\n",
    "Epoch 452/500\n",
    "1/1 [==============================] - 0s 51ms/step - loss: 0.0887\n",
    "Epoch 453/500\n",
    "1/1 [==============================] - 0s 55ms/step - loss: 0.0886\n",
    "Epoch 454/500\n",
    "1/1 [==============================] - 0s 58ms/step - loss: 0.0885\n",
    "Epoch 455/500\n",
    "1/1 [==============================] - 0s 55ms/step - loss: 0.0883\n",
    "Epoch 456/500\n",
    "1/1 [==============================] - 0s 71ms/step - loss: 0.0882\n",
    "Epoch 457/500\n",
    "1/1 [==============================] - 0s 50ms/step - loss: 0.0881\n",
    "Epoch 458/500\n",
    "1/1 [==============================] - 0s 56ms/step - loss: 0.0880\n",
    "Epoch 459/500\n",
    "1/1 [==============================] - 0s 55ms/step - loss: 0.0879\n",
    "Epoch 460/500\n",
    "1/1 [==============================] - 0s 57ms/step - loss: 0.0878\n",
    "Epoch 461/500\n",
    "1/1 [==============================] - 0s 56ms/step - loss: 0.0878\n",
    "Epoch 462/500\n",
    "1/1 [==============================] - 0s 55ms/step - loss: 0.0879\n",
    "Epoch 463/500\n",
    "1/1 [==============================] - 0s 60ms/step - loss: 0.0879\n",
    "Epoch 464/500\n",
    "1/1 [==============================] - 0s 68ms/step - loss: 0.0888\n",
    "Epoch 465/500\n",
    "1/1 [==============================] - 0s 62ms/step - loss: 0.0875\n",
    "Epoch 466/500\n",
    "1/1 [==============================] - 0s 55ms/step - loss: 0.0873\n",
    "Epoch 467/500\n",
    "1/1 [==============================] - 0s 49ms/step - loss: 0.0872\n",
    "Epoch 468/500\n",
    "1/1 [==============================] - 0s 56ms/step - loss: 0.0872\n",
    "Epoch 469/500\n",
    "1/1 [==============================] - 0s 55ms/step - loss: 0.0871\n",
    "Epoch 470/500\n",
    "1/1 [==============================] - 0s 55ms/step - loss: 0.0871\n",
    "Epoch 471/500\n",
    "1/1 [==============================] - 0s 59ms/step - loss: 0.0870\n",
    "Epoch 472/500\n",
    "1/1 [==============================] - 0s 68ms/step - loss: 0.0871\n",
    "Epoch 473/500\n",
    "1/1 [==============================] - 0s 57ms/step - loss: 0.0869\n",
    "Epoch 474/500\n",
    "1/1 [==============================] - 0s 61ms/step - loss: 0.0870\n",
    "Epoch 475/500\n",
    "1/1 [==============================] - 0s 47ms/step - loss: 0.0868\n",
    "Epoch 476/500\n",
    "1/1 [==============================] - 0s 55ms/step - loss: 0.0868\n",
    "Epoch 477/500\n",
    "1/1 [==============================] - 0s 62ms/step - loss: 0.0866\n",
    "Epoch 478/500\n",
    "1/1 [==============================] - 0s 58ms/step - loss: 0.0867\n",
    "Epoch 479/500\n",
    "1/1 [==============================] - 0s 60ms/step - loss: 0.0865\n",
    "Epoch 480/500\n",
    "1/1 [==============================] - 0s 65ms/step - loss: 0.0866\n",
    "Epoch 481/500\n",
    "1/1 [==============================] - 0s 58ms/step - loss: 0.0864\n",
    "Epoch 482/500\n",
    "1/1 [==============================] - 0s 57ms/step - loss: 0.0865\n",
    "Epoch 483/500\n",
    "1/1 [==============================] - 0s 53ms/step - loss: 0.0863\n",
    "Epoch 484/500\n",
    "1/1 [==============================] - 0s 56ms/step - loss: 0.0864\n",
    "Epoch 485/500\n",
    "1/1 [==============================] - 0s 56ms/step - loss: 0.0862\n",
    "Epoch 486/500\n",
    "1/1 [==============================] - 0s 55ms/step - loss: 0.0863\n",
    "Epoch 487/500\n",
    "1/1 [==============================] - 0s 52ms/step - loss: 0.0861\n",
    "Epoch 488/500\n",
    "1/1 [==============================] - 0s 68ms/step - loss: 0.0862\n",
    "Epoch 489/500\n",
    "1/1 [==============================] - 0s 62ms/step - loss: 0.0860\n",
    "Epoch 490/500\n",
    "1/1 [==============================] - 0s 57ms/step - loss: 0.0861\n",
    "Epoch 491/500\n",
    "1/1 [==============================] - 0s 51ms/step - loss: 0.0859\n",
    "Epoch 492/500\n",
    "1/1 [==============================] - 0s 54ms/step - loss: 0.0860\n",
    "Epoch 493/500\n",
    "1/1 [==============================] - 0s 51ms/step - loss: 0.0859\n",
    "Epoch 494/500\n",
    "1/1 [==============================] - 0s 54ms/step - loss: 0.0860\n",
    "Epoch 495/500\n",
    "1/1 [==============================] - 0s 50ms/step - loss: 0.0858\n",
    "Epoch 496/500\n",
    "1/1 [==============================] - 0s 69ms/step - loss: 0.0859\n",
    "Epoch 497/500\n",
    "1/1 [==============================] - 0s 63ms/step - loss: 0.0857\n",
    "Epoch 498/500\n",
    "1/1 [==============================] - 0s 56ms/step - loss: 0.0858\n",
    "Epoch 499/500\n",
    "1/1 [==============================] - 0s 54ms/step - loss: 0.0857\n",
    "Epoch 500/500\n",
    "1/1 [==============================] - 0s 57ms/step - loss: 0.0858\n",
    "```"
   ]
  },
  {
   "cell_type": "code",
   "execution_count": null,
   "id": "41cc0d79",
   "metadata": {},
   "outputs": [],
   "source": []
  },
  {
   "cell_type": "markdown",
   "id": "3be0b85c",
   "metadata": {},
   "source": [
    "### 四，评估模型"
   ]
  },
  {
   "cell_type": "markdown",
   "id": "cc134cd8",
   "metadata": {},
   "source": [
    "评估模型一般要设置验证集或者测试集，由于此例数据较少，我们仅仅可视化损失函数在训练集上的迭代情况。"
   ]
  },
  {
   "cell_type": "code",
   "execution_count": null,
   "id": "a98a826b",
   "metadata": {},
   "outputs": [],
   "source": [
    "%matplotlib inline\n",
    "%config InlineBackend.figure_format = 'svg'\n",
    "\n",
    "import matplotlib.pyplot as plt\n",
    "\n",
    "def plot_metric(history, metric):\n",
    "    train_metrics = history.history[metric]\n",
    "    epochs = range(1, len(train_metrics) + 1)\n",
    "    plt.plot(epochs, train_metrics, 'bo--')\n",
    "    plt.title('Training '+ metric)\n",
    "    plt.xlabel(\"Epochs\")\n",
    "    plt.ylabel(metric)\n",
    "    plt.legend([\"train_\"+metric])\n",
    "    plt.show()\n"
   ]
  },
  {
   "cell_type": "code",
   "execution_count": null,
   "id": "332526cd",
   "metadata": {},
   "outputs": [],
   "source": [
    "plot_metric(history,\"loss\")"
   ]
  },
  {
   "cell_type": "markdown",
   "id": "bff1ea3a",
   "metadata": {},
   "source": [
    "![](./data/1-4-损失函数曲线.png)"
   ]
  },
  {
   "cell_type": "markdown",
   "id": "73af27ae",
   "metadata": {},
   "source": [
    "### 五，使用模型"
   ]
  },
  {
   "cell_type": "markdown",
   "id": "f38cfc20",
   "metadata": {},
   "source": [
    "此处我们使用模型预测疫情结束时间，即 新增确诊病例为0 的时间。"
   ]
  },
  {
   "cell_type": "code",
   "execution_count": null,
   "id": "2753c271",
   "metadata": {},
   "outputs": [],
   "source": [
    "#使用dfresult记录现有数据以及此后预测的疫情数据\n",
    "dfresult = dfdiff[[\"confirmed_num\",\"cured_num\",\"dead_num\"]].copy()\n",
    "dfresult.tail()"
   ]
  },
  {
   "cell_type": "markdown",
   "id": "739ddfd5",
   "metadata": {},
   "source": [
    "![](./data/1-4-日期3月10.png)"
   ]
  },
  {
   "cell_type": "code",
   "execution_count": null,
   "id": "588145b6",
   "metadata": {},
   "outputs": [],
   "source": [
    "#预测此后100天的新增走势,将其结果添加到dfresult中\n",
    "for i in range(100):\n",
    "    arr_predict = model.predict(tf.constant(tf.expand_dims(dfresult.values[-38:,:],axis = 0)))\n",
    "\n",
    "    dfpredict = pd.DataFrame(tf.cast(tf.floor(arr_predict),tf.float32).numpy(),\n",
    "                columns = dfresult.columns)\n",
    "    dfresult = dfresult.append(dfpredict,ignore_index=True)"
   ]
  },
  {
   "cell_type": "code",
   "execution_count": null,
   "id": "f0633071",
   "metadata": {},
   "outputs": [],
   "source": [
    "dfresult.query(\"confirmed_num==0\").head()\n",
    "\n",
    "# 第55天开始新增确诊降为0，第45天对应3月10日，也就是10天后，即预计3月20日新增确诊降为0\n",
    "# 注：该预测偏乐观"
   ]
  },
  {
   "cell_type": "markdown",
   "id": "8c8c592e",
   "metadata": {},
   "source": [
    "![](./data/1-4-预测确诊.png)"
   ]
  },
  {
   "cell_type": "code",
   "execution_count": null,
   "id": "78211fe9",
   "metadata": {},
   "outputs": [],
   "source": []
  },
  {
   "cell_type": "code",
   "execution_count": null,
   "id": "0bb8e71b",
   "metadata": {},
   "outputs": [],
   "source": [
    "dfresult.query(\"cured_num==0\").head()\n",
    "\n",
    "# 第164天开始新增治愈降为0，第45天对应3月10日，也就是大概4个月后，即7月10日左右全部治愈。\n",
    "# 注: 该预测偏悲观，并且存在问题，如果将每天新增治愈人数加起来，将超过累计确诊人数。"
   ]
  },
  {
   "cell_type": "markdown",
   "id": "2968a6cc",
   "metadata": {},
   "source": [
    "![](./data/1-4-预测治愈.png)"
   ]
  },
  {
   "cell_type": "code",
   "execution_count": null,
   "id": "68311b3d",
   "metadata": {},
   "outputs": [],
   "source": []
  },
  {
   "cell_type": "code",
   "execution_count": null,
   "id": "121cb9f5",
   "metadata": {},
   "outputs": [],
   "source": [
    "dfresult.query(\"dead_num==0\").head()\n",
    "\n",
    "# 第60天开始，新增死亡降为0，第45天对应3月10日，也就是大概15天后，即20200325\n",
    "# 该预测较为合理"
   ]
  },
  {
   "cell_type": "markdown",
   "id": "d4ebbdd2",
   "metadata": {},
   "source": [
    "![](./data/1-4-预测死亡.png)"
   ]
  },
  {
   "cell_type": "code",
   "execution_count": null,
   "id": "dc155818",
   "metadata": {},
   "outputs": [],
   "source": []
  },
  {
   "cell_type": "markdown",
   "id": "15b2348d",
   "metadata": {},
   "source": [
    "### 六，保存模型"
   ]
  },
  {
   "cell_type": "markdown",
   "id": "a2de73e1",
   "metadata": {},
   "source": [
    "推荐使用TensorFlow原生方式保存模型。"
   ]
  },
  {
   "cell_type": "code",
   "execution_count": null,
   "id": "df16cef1",
   "metadata": {},
   "outputs": [],
   "source": [
    "model.save('./data/tf_model_savedmodel', save_format=\"tf\")\n",
    "print('export saved model.')"
   ]
  },
  {
   "cell_type": "code",
   "execution_count": null,
   "id": "639430a8",
   "metadata": {},
   "outputs": [],
   "source": [
    "model_loaded = tf.keras.models.load_model('./data/tf_model_savedmodel',compile=False)\n",
    "optimizer = tf.keras.optimizers.Adam(learning_rate=0.001)\n",
    "model_loaded.compile(optimizer=optimizer,loss=MSPE(name = \"MSPE\"))\n",
    "model_loaded.predict(ds_train)"
   ]
  },
  {
   "cell_type": "code",
   "execution_count": null,
   "id": "e8d67b9d",
   "metadata": {},
   "outputs": [],
   "source": []
  },
  {
   "cell_type": "markdown",
   "id": "e054f573",
   "metadata": {},
   "source": [
    "如果对本书内容理解上有需要进一步和作者交流的地方，欢迎在公众号\"Python与算法之美\"下留言。作者时间和精力有限，会酌情予以回复。\n",
    "\n",
    "也可以在公众号后台回复关键字：**加群**，加入读者交流群和大家讨论。\n",
    "\n",
    "![image.png](./data/Python与算法之美logo.jpg)"
   ]
  }
 ],
 "metadata": {
  "jupytext": {
   "cell_metadata_filter": "-all",
   "main_language": "python",
   "notebook_metadata_filter": "-all"
  }
 },
 "nbformat": 4,
 "nbformat_minor": 5
}
