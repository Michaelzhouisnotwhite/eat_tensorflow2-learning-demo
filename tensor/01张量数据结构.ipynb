{
 "cells": [
  {
   "cell_type": "code",
   "execution_count": 1,
   "source": [
    "import tensorflow as tf"
   ],
   "outputs": [],
   "metadata": {}
  },
  {
   "cell_type": "markdown",
   "source": [
    "tf.rank 查看张量的大小\r\n",
    "\r\n",
    "tf.constant 常量"
   ],
   "metadata": {}
  },
  {
   "cell_type": "code",
   "execution_count": 5,
   "source": [
    "scalar = tf.constant(True)\r\n",
    "vector = tf.constant([1, 2, 3])\r\n",
    "print(\"tf.rank:\")\r\n",
    "print(tf.rank(scalar))\r\n",
    "print(tf.rank(vector))\r\n",
    "print(\"numpy.ndim\")\r\n",
    "print(scalar.numpy().ndim)\r\n",
    "print(vector.numpy().ndim)"
   ],
   "outputs": [
    {
     "output_type": "stream",
     "name": "stdout",
     "text": [
      "tf.rank:\n",
      "tf.Tensor(0, shape=(), dtype=int32)\n",
      "tf.Tensor(1, shape=(), dtype=int32)\n",
      "numpy.ndim\n",
      "0\n",
      "1\n"
     ]
    }
   ],
   "metadata": {}
  },
  {
   "cell_type": "markdown",
   "source": [
    "tf.cast 改变张量的数据类型"
   ],
   "metadata": {}
  },
  {
   "cell_type": "code",
   "execution_count": 7,
   "source": [
    "h = tf.constant([121, 123], dtype=tf.int32)\r\n",
    "f = tf.cast(h, tf.float32)\r\n",
    "print(h.dtype, f.dtype)"
   ],
   "outputs": [
    {
     "output_type": "stream",
     "name": "stdout",
     "text": [
      "<dtype: 'int32'> <dtype: 'float32'>\n"
     ]
    }
   ],
   "metadata": {}
  },
  {
   "cell_type": "code",
   "execution_count": 8,
   "source": [
    "tf_string = tf.constant(\"hello world\")\r\n",
    "print(tf_string.numpy())\r\n",
    "print(tf_string.numpy().decode(\"utf-8\"))"
   ],
   "outputs": [
    {
     "output_type": "stream",
     "name": "stdout",
     "text": [
      "b'hello world'\n",
      "hello world\n"
     ]
    }
   ],
   "metadata": {}
  },
  {
   "cell_type": "code",
   "execution_count": null,
   "source": [],
   "outputs": [],
   "metadata": {}
  }
 ],
 "metadata": {
  "orig_nbformat": 4,
  "language_info": {
   "name": "python",
   "version": "3.7.9",
   "mimetype": "text/x-python",
   "codemirror_mode": {
    "name": "ipython",
    "version": 3
   },
   "pygments_lexer": "ipython3",
   "nbconvert_exporter": "python",
   "file_extension": ".py"
  },
  "kernelspec": {
   "name": "python3",
   "display_name": "Python 3.7.9 64-bit ('deeplab': conda)"
  },
  "interpreter": {
   "hash": "ecae59e36edac920ceb43795ff371fc2cc92248ebecf572615877361fb7f6b56"
  }
 },
 "nbformat": 4,
 "nbformat_minor": 2
}